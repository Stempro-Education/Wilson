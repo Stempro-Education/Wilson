{
 "cells": [
  {
   "cell_type": "code",
   "execution_count": 1,
   "metadata": {},
   "outputs": [
    {
     "name": "stdout",
     "output_type": "stream",
     "text": [
      "Automatically created module for IPython interactive environment\n"
     ]
    }
   ],
   "source": [
    "print(__doc__)\n",
    "\n",
    "%matplotlib inline\n",
    "# Code source: Jaques Grobler\n",
    "# License: BSD 3 clause\n",
    "\n",
    "\n",
    "import matplotlib.pyplot as plt\n",
    "import numpy as np\n",
    "from sklearn import datasets, linear_model\n",
    "from sklearn.metrics import mean_squared_error, r2_score"
   ]
  },
  {
   "cell_type": "code",
   "execution_count": 6,
   "metadata": {},
   "outputs": [],
   "source": [
    "traindata_y_pred = regr.predict(traindata_X)"
   ]
  },
  {
   "cell_type": "code",
   "execution_count": 3,
   "metadata": {},
   "outputs": [],
   "source": [
    "traindata_X = [[10],[12],[20],[25],[18],[32],[40],[42]]\n",
    "traindata_y =[5,7.2,7,8,10,11,15,26]\n",
    "testdata_X = [[28],[38],[10]]\n",
    "testdata_y = [9,14,5]"
   ]
  },
  {
   "cell_type": "code",
   "execution_count": 5,
   "metadata": {
    "scrolled": true
   },
   "outputs": [
    {
     "name": "stdout",
     "output_type": "stream",
     "text": [
      "Coefficients: \n",
      " [0.46712744]\n",
      "Intercept: \n",
      " -0.46979507699769485\n",
      "Mean squared error: 8.14\n"
     ]
    },
    {
     "data": {
      "image/png": "[encoded data removed]",
      "text/plain": [
       "<Figure size 432x288 with 1 Axes>"
      ]
     },
     "metadata": {
      "needs_background": "light"
     },
     "output_type": "display_data"
    }
   ],
   "source": [
    "# Create linear regression object\n",
    "regr = linear_model.LinearRegression()\n",
    "\n",
    "# Train the model using the training sets\n",
    "regr.fit(traindata_X, traindata_y)\n",
    "\n",
    "# Make predictions using the testing set\n",
    "testdata_y_pred = regr.predict(testdata_X)\n",
    "\n",
    "# The coefficients\n",
    "print('Coefficients: \\n', regr.coef_)\n",
    "print('Intercept: \\n', regr.intercept_)\n",
    "# The mean squared error\n",
    "print('Mean squared error: %.2f'\n",
    "      % mean_squared_error(testdata_y, testdata_y_pred))\n",
    "\n",
    "\n",
    "# Plot outputs\n",
    "plt.scatter(traindata_X, traindata_y,  color='red')\n",
    "plt.scatter(testdata_X, testdata_y,  color='black')\n",
    "\n",
    "list_x=[]\n",
    "list_y=[]\n",
    "for x in range(0,100):\n",
    "    y = regr.coef_ * x + regr.intercept_\n",
    "    list_x.append(x)\n",
    "    list_y.append(y)\n",
    "plt.plot(list_x, list_y, color='blue')  \n",
    "\n",
    "#plt.scatter(diabetes_X_test, diabetes_y_test,  color='black')\n",
    "\n",
    "#plt.plot(testdata_X, testdata_y_pred, color='blue', linewidth=3)\n",
    "\n",
    "#plt.xticks(())\n",
    "#plt.yticks(())\n",
    "\n",
    "plt.show()"
   ]
  },
  {
   "cell_type": "code",
   "execution_count": 7,
   "metadata": {},
   "outputs": [],
   "source": [
    "from sklearn.preprocessing import PolynomialFeatures"
   ]
  },
  {
   "cell_type": "code",
   "execution_count": 8,
   "metadata": {},
   "outputs": [],
   "source": [
    "polynomial_features= PolynomialFeatures(degree=7)\n",
    "x_poly = polynomial_features.fit_transform(traindata_X)\n",
    "testdata_x_poly = polynomial_features.fit_transform(testdata_X)"
   ]
  },
  {
   "cell_type": "code",
   "execution_count": 9,
   "metadata": {},
   "outputs": [
    {
     "name": "stdout",
     "output_type": "stream",
     "text": [
      "[[1.00000000e+00 2.80000000e+01 7.84000000e+02 2.19520000e+04\n",
      "  6.14656000e+05 1.72103680e+07 4.81890304e+08 1.34929285e+10]\n",
      " [1.00000000e+00 3.80000000e+01 1.44400000e+03 5.48720000e+04\n",
      "  2.08513600e+06 7.92351680e+07 3.01093638e+09 1.14415583e+11]\n",
      " [1.00000000e+00 1.00000000e+01 1.00000000e+02 1.00000000e+03\n",
      "  1.00000000e+04 1.00000000e+05 1.00000000e+06 1.00000000e+07]]\n"
     ]
    }
   ],
   "source": [
    "print(testdata_x_poly)"
   ]
  },
  {
   "cell_type": "code",
   "execution_count": 10,
   "metadata": {},
   "outputs": [],
   "source": [
    "model = linear_model.LinearRegression()\n",
    "model.fit(x_poly, traindata_y)\n",
    "\n",
    "testdata_y_poly_pred = model.predict(testdata_x_poly)\n",
    "traindata_y_poly_pred = model.predict(x_poly)"
   ]
  },
  {
   "cell_type": "code",
   "execution_count": 11,
   "metadata": {},
   "outputs": [
    {
     "name": "stdout",
     "output_type": "stream",
     "text": [
      "[12.08135506  6.83341356  4.9928111 ]\n"
     ]
    }
   ],
   "source": [
    "print(testdata_y_poly_pred)"
   ]
  },
  {
   "cell_type": "code",
   "execution_count": 12,
   "metadata": {},
   "outputs": [
    {
     "name": "stdout",
     "output_type": "stream",
     "text": [
      "[ 0.00000000e+00 -5.97705717e+02  8.68435569e+01 -6.63040416e+00\n",
      "  2.88437695e-01 -7.18117417e-03  9.51591204e-05 -5.19851607e-07]\n",
      "1671.8783138844942\n"
     ]
    }
   ],
   "source": [
    "print(model.coef_)\n",
    "print(model.intercept_)"
   ]
  },
  {
   "cell_type": "code",
   "execution_count": 13,
   "metadata": {},
   "outputs": [
    {
     "data": {
      "text/plain": [
       "[<matplotlib.lines.Line2D at 0x26a9ff0dd88>]"
      ]
     },
     "execution_count": 13,
     "metadata": {},
     "output_type": "execute_result"
    },
    {
     "data": {
      "image/png": "[encoded data removed]",
      "text/plain": [
       "<Figure size 432x288 with 1 Axes>"
      ]
     },
     "metadata": {
      "needs_background": "light"
     },
     "output_type": "display_data"
    }
   ],
   "source": [
    "list_poly_x=[]\n",
    "list_poly_y=[]\n",
    "for x in range(9,45):\n",
    "    y = model.coef_[7]*x*x*x*x*x*x*x+model.coef_[6]*x*x*x*x*x*x+model.coef_[5]*x*x*x*x*x+model.coef_[4]*x*x*x*x+model.coef_[3]*x*x*x+model.coef_[2] * x *x + model.coef_[1] * x  + model.intercept_\n",
    "    list_poly_x.append(x)\n",
    "    list_poly_y.append(y)\n",
    "\n",
    "    \n",
    "for x in range(9,45):\n",
    "    y = regr.coef_ * x + regr.intercept_\n",
    "    list_x.append(x)\n",
    "    list_y.append(y)\n",
    "    \n",
    "plt.plot(list_x, list_y, color='blue')      \n",
    "plt.scatter(traindata_X, traindata_y,  color='red')\n",
    "plt.scatter(testdata_X, testdata_y,  color='black')\n",
    "plt.plot(list_poly_x, list_poly_y, color='green')  \n"
   ]
  },
  {
   "cell_type": "code",
   "execution_count": 14,
   "metadata": {},
   "outputs": [
    {
     "name": "stdout",
     "output_type": "stream",
     "text": [
      "Mean squared error of line model: 11.54\n",
      "Mean squared error of seventh order polynomial model: 0.00\n"
     ]
    }
   ],
   "source": [
    "print('Mean squared error of line model: %.2f'\n",
    "      % mean_squared_error(traindata_y, traindata_y_pred))\n",
    "print('Mean squared error of seventh order polynomial model: %.2f'\n",
    "      % mean_squared_error(traindata_y, traindata_y_poly_pred))"
   ]
  },
  {
   "cell_type": "code",
   "execution_count": 15,
   "metadata": {},
   "outputs": [
    {
     "ename": "IndexError",
     "evalue": "invalid index to scalar variable.",
     "output_type": "error",
     "traceback": [
      "\u001b[1;31m---------------------------------------------------------------------------\u001b[0m",
      "\u001b[1;31mIndexError\u001b[0m                                Traceback (most recent call last)",
      "\u001b[1;32m<ipython-input-15-cc30c6e26211>\u001b[0m in \u001b[0;36m<module>\u001b[1;34m\u001b[0m\n\u001b[1;32m----> 1\u001b[1;33m \u001b[0mmodel\u001b[0m\u001b[1;33m.\u001b[0m\u001b[0mcoef_\u001b[0m\u001b[1;33m[\u001b[0m\u001b[1;36m0\u001b[0m\u001b[1;33m]\u001b[0m\u001b[1;33m[\u001b[0m\u001b[1;36m0\u001b[0m\u001b[1;33m]\u001b[0m\u001b[1;33m\u001b[0m\u001b[1;33m\u001b[0m\u001b[0m\n\u001b[0m",
      "\u001b[1;31mIndexError\u001b[0m: invalid index to scalar variable."
     ]
    }
   ],
   "source": [
    "model.coef_[0][0]"
   ]
  },
  {
   "cell_type": "code",
   "execution_count": 16,
   "metadata": {},
   "outputs": [],
   "source": [
    "import math"
   ]
  },
  {
   "cell_type": "code",
   "execution_count": 22,
   "metadata": {},
   "outputs": [
    {
     "ename": "TypeError",
     "evalue": "must be real number, not type",
     "output_type": "error",
     "traceback": [
      "\u001b[1;31m---------------------------------------------------------------------------\u001b[0m",
      "\u001b[1;31mTypeError\u001b[0m                                 Traceback (most recent call last)",
      "\u001b[1;32m<ipython-input-22-ed5297747287>\u001b[0m in \u001b[0;36m<module>\u001b[1;34m\u001b[0m\n\u001b[1;32m----> 1\u001b[1;33m \u001b[0mmath\u001b[0m\u001b[1;33m.\u001b[0m\u001b[0mlog10\u001b[0m\u001b[1;33m(\u001b[0m\u001b[0mtype\u001b[0m\u001b[1;33m)\u001b[0m\u001b[1;33m\u001b[0m\u001b[1;33m\u001b[0m\u001b[0m\n\u001b[0m",
      "\u001b[1;31mTypeError\u001b[0m: must be real number, not type"
     ]
    }
   ],
   "source": [
    "math.log10(type)"
   ]
  },
  {
   "cell_type": "code",
   "execution_count": null,
   "metadata": {},
   "outputs": [],
   "source": [
    "a"
   ]
  },
  {
   "cell_type": "code",
   "execution_count": null,
   "metadata": {},
   "outputs": [],
   "source": []
  }
 ],
 "metadata": {
  "kernelspec": {
   "display_name": "Python 3",
   "language": "python",
   "name": "python3"
  },
  "language_info": {
   "codemirror_mode": {
    "name": "ipython",
    "version": 3
   },
   "file_extension": ".py",
   "mimetype": "text/x-python",
   "name": "python",
   "nbconvert_exporter": "python",
   "pygments_lexer": "ipython3",
   "version": "3.7.4"
  }
 },
 "nbformat": 4,
 "nbformat_minor": 2
}
