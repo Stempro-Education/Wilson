{
 "cells": [
  {
   "cell_type": "markdown",
   "metadata": {},
   "source": [
    "<font size=7 color=green>Summary: 715/800</font>"
   ]
  },
  {
   "cell_type": "code",
   "execution_count": null,
   "metadata": {
    "ExecuteTime": {
     "end_time": "2020-02-09T04:39:03.219889Z",
     "start_time": "2020-02-09T04:38:55.219989Z"
    }
   },
   "outputs": [],
   "source": [
    "#Question 1\n",
    "distance=[]\n",
    "week=1\n",
    "option=''\n",
    "while option != 'quit':\n",
    "    option=input('How many miles did you run in week '+str(week)+'? ')\n",
    "    if option != 'quit':\n",
    "        s='week'+str(week)\n",
    "        distance=distance+[(s,option)]\n",
    "    week+=1\n",
    "print(distance)"
   ]
  },
  {
   "cell_type": "markdown",
   "metadata": {},
   "source": [
    "<font size=6 color=green> Q1 80/100</font><div class=\"alert alert-info\"> \n",
    "Comments: \n",
    "1. simple but work. \n",
    "2. need to handle none numeric inputs\n",
    "</div>"
   ]
  },
  {
   "cell_type": "code",
   "execution_count": null,
   "metadata": {
    "ExecuteTime": {
     "end_time": "2020-02-09T04:39:10.613505Z",
     "start_time": "2020-02-09T04:39:10.552546Z"
    }
   },
   "outputs": [],
   "source": [
    "#Question 2\n",
    "distances=[]\n",
    "for week,dist in distance:\n",
    "    distances.append(int(dist))\n",
    "maximum=max(distances)\n",
    "minimum=min(distances)\n",
    "average=sum(distances)/len(distances)\n",
    "print('Max miles per week: ',maximum)\n",
    "print('Min miles per week: ',minimum)\n",
    "print('Average miles per week: ',average)"
   ]
  },
  {
   "cell_type": "markdown",
   "metadata": {},
   "source": [
    "<font size=6 color=green> Q2 75/100</font><div class=\"alert alert-info\"> \n",
    "Comments: \n",
    "1. simple solution. it works in most scenarios. \n",
    "2. please consider: a). numeric input or not. b). negative. c). i run 4.5 miles. not an integer. d). would be great to output which week has the max, and which has the min. (hint. either  change the \"distance\" data structure. or, use argmax. ) \n",
    "</div>"
   ]
  },
  {
   "cell_type": "code",
   "execution_count": null,
   "metadata": {},
   "outputs": [],
   "source": [
    "#Question 3\n",
    "colors=[]\n",
    "color=''\n",
    "while color != 'exit':\n",
    "    color = input('Type your color: ')\n",
    "    if color == 'exit':\n",
    "        break\n",
    "    else:\n",
    "        if color in colors:\n",
    "            print(\"We're sorry, but you've already added the color \"+color)\n",
    "        else:\n",
    "            colors.append(color)\n",
    "for c in sorted(colors):\n",
    "    print(c)"
   ]
  },
  {
   "cell_type": "markdown",
   "metadata": {
    "ExecuteTime": {
     "end_time": "2020-02-09T04:48:15.962953Z",
     "start_time": "2020-02-09T04:48:15.958918Z"
    }
   },
   "source": [
    "<font size=6 color=green> Q3 90/100</font><div class=\"alert alert-info\"> \n",
    "Comments: \n",
    "1. Well Done\n",
    "2. Try dictionary. which will be O(1) instead of O(n)\n",
    "</div>"
   ]
  },
  {
   "cell_type": "code",
   "execution_count": null,
   "metadata": {
    "ExecuteTime": {
     "end_time": "2020-02-09T04:49:10.430764Z",
     "start_time": "2020-02-09T04:49:10.078815Z"
    }
   },
   "outputs": [],
   "source": [
    "#Question 4\n",
    "import numpy as np\n",
    "def generate_bingo_letter():\n",
    "    return 'BINGO'[np.random.randint(5)]\n",
    "x = generate_bingo_letter()\n",
    "print(x)\n"
   ]
  },
  {
   "cell_type": "markdown",
   "metadata": {},
   "source": [
    "<font size=6 color=green> Q4 100/100</font><div class=\"alert alert-info\"> \n",
    "Comments: \n",
    "Well Done \n",
    "</div>"
   ]
  },
  {
   "cell_type": "code",
   "execution_count": null,
   "metadata": {},
   "outputs": [],
   "source": [
    "#Question 5\n",
    "def fraction(fstring):\n",
    "    frac=fstring.split('/')\n",
    "    num=int(frac[0])\n",
    "    den=int(frac[1])\n",
    "    return num/den\n",
    "print(fraction('3/4'))\n",
    "print(fraction('1/3'))"
   ]
  },
  {
   "cell_type": "markdown",
   "metadata": {},
   "source": [
    "<font size=6 color=green> Q5 90/100</font><div class=\"alert alert-info\"> \n",
    "Comments: \n",
    "<br>works for most scenarios.  \n",
    "<br>please consider 5 5/6, -4/9, 9/0 \n",
    "<br>The questions assumes: the input is valid fraction. To validate a fration, you may consider using regular expression\n",
    "<br>you may refer to the follow script\n",
    "</div>"
   ]
  },
  {
   "cell_type": "code",
   "execution_count": null,
   "metadata": {
    "ExecuteTime": {
     "end_time": "2020-02-09T04:51:09.364751Z",
     "start_time": "2020-02-09T04:51:09.356755Z"
    }
   },
   "outputs": [],
   "source": [
    "import re \n",
    "def fraction(fstring): \n",
    "    if re.match(r'^-?\\d+\\s\\d+/\\d+', fstr) or re.match(r'^-?\\d*/\\d+', fstr):\n",
    "\n",
    "        try:\n",
    "            parts=re.split(' |/',fstring.strip())\n",
    "            is_neg=False\n",
    "            num=0\n",
    "            num=int(parts[0].strip())\n",
    "            if num<0:\n",
    "                is_neg=True\n",
    "            if  len(parts)==3:\n",
    "                num=abs(num)+float(int(parts[-2].strip())/int(parts[-1].strip()))\n",
    "            elif len(parts)==2:\n",
    "                num = float(abs(num)/int(parts[-1].strip()))\n",
    "            else:\n",
    "                num=abs(num)\n",
    "            num=-num if is_neg==True else num\n",
    "            print(f'Answer is: {num:.3f}')\n",
    "        except Exception as e:\n",
    "            print('error:',e)\n",
    "    else:\n",
    "        print('improper fraction format.')"
   ]
  },
  {
   "cell_type": "code",
   "execution_count": null,
   "metadata": {},
   "outputs": [],
   "source": [
    "#Question 6\n",
    "def balance_parens(astring):\n",
    "    c=[]\n",
    "    for letter in astring:\n",
    "        if letter == '(' or letter == ')':\n",
    "            c.append(letter)\n",
    "    open_p=0\n",
    "    for p in c:\n",
    "        if p == '(':\n",
    "            open_p += 1\n",
    "        else:\n",
    "            open_p -= 1\n",
    "        if open_p < 0:\n",
    "            return False\n",
    "    return open_p==0\n",
    "print(balance_parens('A * ( (B + C) – (D – E) )'))\n",
    "print(balance_parens('A ((B * C) + (D '))"
   ]
  },
  {
   "cell_type": "markdown",
   "metadata": {},
   "source": [
    "<font size=6 color=green> Q6 280/300</font><div class=\"alert alert-info\"> \n",
    "Comments: \n",
    "<br>pretty creative solution; although not the most effective. can you think of stack?\n",
    "<br>challenge: how about there are other types? such as: [ { ] }?\n",
    "</div>"
   ]
  },
  {
   "cell_type": "code",
   "execution_count": null,
   "metadata": {},
   "outputs": [],
   "source": []
  }
 ],
 "metadata": {
  "kernelspec": {
   "display_name": "Python 3",
   "language": "python",
   "name": "python3"
  },
  "language_info": {
   "codemirror_mode": {
    "name": "ipython",
    "version": 3
   },
   "file_extension": ".py",
   "mimetype": "text/x-python",
   "name": "python",
   "nbconvert_exporter": "python",
   "pygments_lexer": "ipython3",
   "version": "3.7.5"
  },
  "toc": {
   "base_numbering": 1,
   "nav_menu": {},
   "number_sections": true,
   "sideBar": true,
   "skip_h1_title": false,
   "title_cell": "Table of Contents",
   "title_sidebar": "Contents",
   "toc_cell": false,
   "toc_position": {},
   "toc_section_display": true,
   "toc_window_display": true
  }
 },
 "nbformat": 4,
 "nbformat_minor": 2
}
