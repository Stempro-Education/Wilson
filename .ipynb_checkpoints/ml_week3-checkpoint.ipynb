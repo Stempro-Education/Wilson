{
 "cells": [
  {
   "cell_type": "code",
   "execution_count": 1,
   "metadata": {},
   "outputs": [
    {
     "name": "stdout",
     "output_type": "stream",
     "text": [
      "Automatically created module for IPython interactive environment\n"
     ]
    }
   ],
   "source": [
    "print(__doc__)\n",
    "\n",
    "%matplotlib inline\n",
    "# Code source: Jaques Grobler\n",
    "# License: BSD 3 clause\n",
    "\n",
    "\n",
    "import matplotlib.pyplot as plt\n",
    "import numpy as np\n",
    "from sklearn import datasets, linear_model\n",
    "from sklearn.metrics import mean_squared_error, r2_score"
   ]
  },
  {
   "cell_type": "code",
   "execution_count": 25,
   "metadata": {},
   "outputs": [
    {
     "name": "stdout",
     "output_type": "stream",
     "text": [
      "[-0.05147406]\n",
      "75.0\n"
     ]
    }
   ],
   "source": []
  },
  {
   "cell_type": "code",
   "execution_count": 68,
   "metadata": {},
   "outputs": [],
   "source": [
    "traindata_X = [[10],[12],[20],[25],[18],[32],[40],[42]]\n",
    "traindata_y =[5,7.2,7,8,10,11,15,26]\n",
    "testdata_X = [[28],[60],[38]]\n",
    "testdata_y = [9,25,14]"
   ]
  },
  {
   "cell_type": "code",
   "execution_count": 69,
   "metadata": {},
   "outputs": [
    {
     "name": "stdout",
     "output_type": "stream",
     "text": [
      "Coefficients: \n",
      " [0.46712744]\n",
      "Intercept: \n",
      " -0.46979507699769485\n",
      "Mean squared error: 10.11\n"
     ]
    },
    {
     "data": {
      "image/png": "[encoded data removed]",
      "text/plain": [
       "<Figure size 432x288 with 1 Axes>"
      ]
     },
     "metadata": {},
     "output_type": "display_data"
    }
   ],
   "source": [
    "# Create linear regression object\n",
    "regr = linear_model.LinearRegression()\n",
    "\n",
    "# Train the model using the training sets\n",
    "regr.fit(traindata_X, traindata_y)\n",
    "\n",
    "# Make predictions using the testing set\n",
    "testdata_y_pred = regr.predict(testdata_X)\n",
    "\n",
    "# The coefficients\n",
    "print('Coefficients: \\n', regr.coef_)\n",
    "print('Intercept: \\n', regr.intercept_)\n",
    "# The mean squared error\n",
    "print('Mean squared error: %.2f'\n",
    "      % mean_squared_error(testdata_y, testdata_y_pred))\n",
    "\n",
    "\n",
    "# Plot outputs\n",
    "plt.scatter(traindata_X, traindata_y,  color='red')\n",
    "plt.scatter(testdata_X, testdata_y,  color='black')\n",
    "\n",
    "list_x=[]\n",
    "list_y=[]\n",
    "for x in range(0,100):\n",
    "    y = regr.coef_ * x + regr.intercept_\n",
    "    list_x.append(x)\n",
    "    list_y.append(y)\n",
    "plt.plot(list_x, list_y, color='blue')  \n",
    "\n",
    "#plt.scatter(diabetes_X_test, diabetes_y_test,  color='black')\n",
    "\n",
    "#plt.plot(testdata_X, testdata_y_pred, color='blue', linewidth=3)\n",
    "\n",
    "#plt.xticks(())\n",
    "#plt.yticks(())\n",
    "\n",
    "plt.show()"
   ]
  },
  {
   "cell_type": "code",
   "execution_count": 70,
   "metadata": {},
   "outputs": [],
   "source": [
    "from sklearn.preprocessing import PolynomialFeatures"
   ]
  },
  {
   "cell_type": "code",
   "execution_count": 78,
   "metadata": {},
   "outputs": [],
   "source": [
    "polynomial_features= PolynomialFeatures(degree=2)\n",
    "x_poly = polynomial_features.fit_transform(traindata_X)\n",
    "testdata_x_poly = polynomial_features.fit_transform(testdata_X)"
   ]
  },
  {
   "cell_type": "code",
   "execution_count": 79,
   "metadata": {},
   "outputs": [
    {
     "name": "stdout",
     "output_type": "stream",
     "text": [
      "[[1.000e+00 2.800e+01 7.840e+02]\n",
      " [1.000e+00 6.000e+01 3.600e+03]\n",
      " [1.000e+00 3.800e+01 1.444e+03]]\n"
     ]
    }
   ],
   "source": [
    "print(testdata_x_poly)"
   ]
  },
  {
   "cell_type": "code",
   "execution_count": 80,
   "metadata": {},
   "outputs": [],
   "source": [
    "model = linear_model.LinearRegression()\n",
    "model.fit(x_poly, traindata_y)\n",
    "\n",
    "testdata_y_poly_pred = model.predict(testdata_x_poly)"
   ]
  },
  {
   "cell_type": "code",
   "execution_count": 81,
   "metadata": {},
   "outputs": [
    {
     "name": "stdout",
     "output_type": "stream",
     "text": [
      "[ 9.89377138 48.82988599 17.39755283]\n"
     ]
    }
   ],
   "source": [
    "print(testdata_y_poly_pred)"
   ]
  },
  {
   "cell_type": "code",
   "execution_count": 82,
   "metadata": {},
   "outputs": [
    {
     "name": "stdout",
     "output_type": "stream",
     "text": [
      "[ 0.         -0.64874816  0.02119888]\n",
      "11.438795310854836\n"
     ]
    }
   ],
   "source": [
    "print(model.coef_)\n",
    "print(model.intercept_)"
   ]
  },
  {
   "cell_type": "code",
   "execution_count": 83,
   "metadata": {},
   "outputs": [
    {
     "data": {
      "text/plain": [
       "[<matplotlib.lines.Line2D at 0x2a19e112b38>]"
      ]
     },
     "execution_count": 83,
     "metadata": {},
     "output_type": "execute_result"
    },
    {
     "data": {
      "image/png": "[encoded data removed]",
      "text/plain": [
       "<Figure size 432x288 with 1 Axes>"
      ]
     },
     "metadata": {},
     "output_type": "display_data"
    }
   ],
   "source": [
    "list_poly_x=[]\n",
    "list_poly_y=[]\n",
    "for x in range(0,100):\n",
    "    y = model.coef_[2] * x *x + model.coef_[1] * x  + model.intercept_\n",
    "    list_poly_x.append(x)\n",
    "    list_poly_y.append(y)\n",
    "\n",
    "    \n",
    "for x in range(0,100):\n",
    "    y = regr.coef_ * x + regr.intercept_\n",
    "    list_x.append(x)\n",
    "    list_y.append(y)\n",
    "    \n",
    "plt.plot(list_x, list_y, color='blue')      \n",
    "plt.scatter(traindata_X, traindata_y,  color='red')\n",
    "plt.scatter(testdata_X, testdata_y,  color='black')\n",
    "plt.plot(list_poly_x, list_poly_y, color='green')  \n"
   ]
  },
  {
   "cell_type": "code",
   "execution_count": 84,
   "metadata": {},
   "outputs": [
    {
     "name": "stdout",
     "output_type": "stream",
     "text": [
      "Mean squared error of line model: 10.11\n",
      "Mean squared error of second order polynomial model: 193.40\n"
     ]
    }
   ],
   "source": [
    "print('Mean squared error of line model: %.2f'\n",
    "      % mean_squared_error(testdata_y, testdata_y_pred))\n",
    "print('Mean squared error of second order polynomial model: %.2f'\n",
    "      % mean_squared_error(testdata_y, testdata_y_poly_pred))"
   ]
  },
  {
   "cell_type": "code",
   "execution_count": null,
   "metadata": {},
   "outputs": [],
   "source": []
  },
  {
   "cell_type": "code",
   "execution_count": null,
   "metadata": {},
   "outputs": [],
   "source": []
  }
 ],
 "metadata": {
  "kernelspec": {
   "display_name": "Python 3",
   "language": "python",
   "name": "python3"
  },
  "language_info": {
   "codemirror_mode": {
    "name": "ipython",
    "version": 3
   },
   "file_extension": ".py",
   "mimetype": "text/x-python",
   "name": "python",
   "nbconvert_exporter": "python",
   "pygments_lexer": "ipython3",
   "version": "3.7.4"
  }
 },
 "nbformat": 4,
 "nbformat_minor": 2
}
