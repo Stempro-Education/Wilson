{
 "cells": [
  {
   "cell_type": "code",
   "execution_count": 2,
   "metadata": {},
   "outputs": [
    {
     "name": "stdout",
     "output_type": "stream",
     "text": [
      "How many miles did you run in week 1? 3\n",
      "How many miles did you run in week 2? 67\n",
      "How many miles did you run in week 3? 1\n",
      "How many miles did you run in week 4? w\n",
      "Input a number\n",
      "How many miles did you run in week 4? ee\n",
      "Input a number\n",
      "How many miles did you run in week 4? 9\n",
      "How many miles did you run in week 5? quit\n",
      "Input a number\n",
      "[('week1', 3), ('week2', 67), ('week3', 1), ('week4', 9)]\n"
     ]
    }
   ],
   "source": [
    "#Question 1\n",
    "distance=[]\n",
    "week=1\n",
    "option=''\n",
    "while option != 'quit':\n",
    "    option=input('How many miles did you run in week '+str(week)+'? ')\n",
    "    try:\n",
    "        option=int(option)\n",
    "        if option != 'quit':\n",
    "            s='week'+str(week)\n",
    "            distance=distance+[(s,option)]\n",
    "        week+=1\n",
    "    except:\n",
    "        print('Input a number')\n",
    "print(distance)"
   ]
  },
  {
   "cell_type": "code",
   "execution_count": 7,
   "metadata": {},
   "outputs": [
    {
     "name": "stdout",
     "output_type": "stream",
     "text": [
      "Max miles per week:  67 week4\n",
      "Min miles per week:  1 week1\n",
      "Average miles per week:  20.0\n"
     ]
    }
   ],
   "source": [
    "#Question 2\n",
    "distances=[]\n",
    "maximum_week=0\n",
    "minimum_week=0\n",
    "for week,dist in distance:\n",
    "    if dist >= 0:\n",
    "        distances.append(int(dist)) # If it was non numeric it would be caught in the first question\n",
    "        for d in distances:\n",
    "            if dist<d:\n",
    "                break\n",
    "            else:\n",
    "                maximum_week=week\n",
    "            if dist>d:\n",
    "                break\n",
    "            else:\n",
    "                minimum_week=week\n",
    "maximum=max(distances)\n",
    "minimum=min(distances)\n",
    "average=sum(distances)/len(distances)\n",
    "print('Max miles per week: ',maximum,maximum_week)\n",
    "print('Min miles per week: ',minimum,minimum_week)\n",
    "print('Average miles per week: ',average)"
   ]
  },
  {
   "cell_type": "code",
   "execution_count": 17,
   "metadata": {},
   "outputs": [
    {
     "name": "stdout",
     "output_type": "stream",
     "text": [
      "Type your color: red\n",
      "Type your color: green\n",
      "Type your color: yellow\n",
      "Type your color: red\n",
      "Type your color: blue\n",
      "Type your color: exit\n",
      "blue\n",
      "green\n",
      "red\n",
      "yellow\n"
     ]
    }
   ],
   "source": [
    "#Question 3\n",
    "colors=set()\n",
    "color=''\n",
    "while color != 'exit':\n",
    "    color = input('Type your color: ')\n",
    "    if color == 'exit':\n",
    "        break\n",
    "    else:\n",
    "        colors.update({color})\n",
    "for c in sorted(colors):\n",
    "    print(c)"
   ]
  },
  {
   "cell_type": "code",
   "execution_count": 25,
   "metadata": {},
   "outputs": [
    {
     "name": "stdout",
     "output_type": "stream",
     "text": [
      "I\n"
     ]
    }
   ],
   "source": [
    "#Question 4\n",
    "import numpy as np\n",
    "def generate_bingo_letter():\n",
    "    return 'BINGO'[np.random.randint(5)]\n",
    "x = generate_bingo_letter()\n",
    "print(x)\n"
   ]
  },
  {
   "cell_type": "code",
   "execution_count": 23,
   "metadata": {},
   "outputs": [
    {
     "name": "stdout",
     "output_type": "stream",
     "text": [
      "0.75\n",
      "0.3333333333333333\n",
      "1.5\n",
      "-0.6666666666666666\n",
      "5.833333333333333\n"
     ]
    }
   ],
   "source": [
    "#Question 5\n",
    "def fraction(fstring):\n",
    "    frac=fstring.split('/')\n",
    "    mix=frac[0].split(' ')\n",
    "    if len(mix) >1:\n",
    "        n=mix[0]\n",
    "    else:\n",
    "        n=0\n",
    "    num=int(mix[-1])\n",
    "    den=int(frac[1])\n",
    "    if den==0:\n",
    "        return \"error\"\n",
    "    return num/den + int(n)\n",
    "print(fraction('3/4'))\n",
    "print(fraction('1/3'))\n",
    "print(fraction('3/2'))\n",
    "print(fraction('-2/3'))\n",
    "print(fraction('5 5/6'))"
   ]
  },
  {
   "cell_type": "code",
   "execution_count": 29,
   "metadata": {},
   "outputs": [
    {
     "name": "stdout",
     "output_type": "stream",
     "text": [
      "True\n",
      "False\n",
      "False\n"
     ]
    }
   ],
   "source": [
    "#Question 6\n",
    "def balance_parens(astring):\n",
    "    c=[]\n",
    "    list_of_parens=['(',')','[',']','{','}']\n",
    "    for letter in astring:\n",
    "        if letter in list_of_parens:\n",
    "            c.append(letter)\n",
    "            if (c[-1]==')' and c[-2]=='(') or (c[-1]==']' and c[-2]=='[') or (c[-1]=='}' and c[-2]=='{'):\n",
    "                c=c[:-2]\n",
    "    return c==[]\n",
    "print(balance_parens('A * ( (B + C) – (D – E) )'))\n",
    "print(balance_parens('A ((B * C) + (D '))\n",
    "print(balance_parens('[{}](())(({]'))"
   ]
  },
  {
   "cell_type": "code",
   "execution_count": null,
   "metadata": {},
   "outputs": [],
   "source": []
  }
 ],
 "metadata": {
  "kernelspec": {
   "display_name": "Python 3",
   "language": "python",
   "name": "python3"
  },
  "language_info": {
   "codemirror_mode": {
    "name": "ipython",
    "version": 3
   },
   "file_extension": ".py",
   "mimetype": "text/x-python",
   "name": "python",
   "nbconvert_exporter": "python",
   "pygments_lexer": "ipython3",
   "version": "3.7.4"
  }
 },
 "nbformat": 4,
 "nbformat_minor": 2
}
