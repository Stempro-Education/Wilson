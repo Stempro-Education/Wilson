{
 "cells": [
  {
   "cell_type": "code",
   "execution_count": 14,
   "metadata": {},
   "outputs": [
    {
     "name": "stdout",
     "output_type": "stream",
     "text": [
      "How many miles did you run in week 1? 12\n",
      "How many miles did you run in week 2? 3\n",
      "How many miles did you run in week 3? 4\n",
      "How many miles did you run in week 4? quit\n",
      "[('week1', '12'), ('week2', '3'), ('week3', '4')]\n"
     ]
    }
   ],
   "source": [
    "#Question 1\n",
    "distance=[]\n",
    "week=1\n",
    "option=''\n",
    "while option != 'quit':\n",
    "    option=input('How many miles did you run in week '+str(week)+'? ')\n",
    "    if option != 'quit':\n",
    "        s='week'+str(week)\n",
    "        distance=distance+[(s,option)]\n",
    "    week+=1\n",
    "print(distance)"
   ]
  },
  {
   "cell_type": "code",
   "execution_count": 17,
   "metadata": {},
   "outputs": [
    {
     "name": "stdout",
     "output_type": "stream",
     "text": [
      "Max miles per week:  12\n",
      "Min miles per week:  3\n",
      "Average miles per week:  6.333333333333333\n"
     ]
    }
   ],
   "source": [
    "#Question 2\n",
    "distances=[]\n",
    "for week,dist in distance:\n",
    "    distances.append(int(dist))\n",
    "maximum=max(distances)\n",
    "minimum=min(distances)\n",
    "average=sum(distances)/len(distances)\n",
    "print('Max miles per week: ',maximum)\n",
    "print('Min miles per week: ',minimum)\n",
    "print('Average miles per week: ',average)"
   ]
  },
  {
   "cell_type": "code",
   "execution_count": 21,
   "metadata": {},
   "outputs": [
    {
     "name": "stdout",
     "output_type": "stream",
     "text": [
      "Type your color: red\n",
      "Type your color: blue\n",
      "Type your color: green\n",
      "Type your color: green\n",
      "We're sorry, but you've already added the color green\n",
      "Type your color: red\n",
      "We're sorry, but you've already added the color red\n",
      "Type your color: blue\n",
      "We're sorry, but you've already added the color blue\n",
      "Type your color: white\n",
      "Type your color: yellow\n",
      "Type your color: exit\n",
      "blue\n",
      "green\n",
      "red\n",
      "white\n",
      "yellow\n"
     ]
    }
   ],
   "source": [
    "#Question 3\n",
    "colors=[]\n",
    "color=''\n",
    "while color != 'exit':\n",
    "    color = input('Type your color: ')\n",
    "    if color == 'exit':\n",
    "        break\n",
    "    else:\n",
    "        if color in colors:\n",
    "            print(\"We're sorry, but you've already added the color \"+color)\n",
    "        else:\n",
    "            colors.append(color)\n",
    "for c in sorted(colors):\n",
    "    print(c)"
   ]
  },
  {
   "cell_type": "code",
   "execution_count": 25,
   "metadata": {},
   "outputs": [
    {
     "name": "stdout",
     "output_type": "stream",
     "text": [
      "I\n"
     ]
    }
   ],
   "source": [
    "#Question 4\n",
    "import numpy as np\n",
    "def generate_bingo_letter():\n",
    "    return 'BINGO'[np.random.randint(5)]\n",
    "x = generate_bingo_letter()\n",
    "print(x)\n"
   ]
  },
  {
   "cell_type": "code",
   "execution_count": 27,
   "metadata": {},
   "outputs": [
    {
     "name": "stdout",
     "output_type": "stream",
     "text": [
      "0.75\n",
      "0.3333333333333333\n"
     ]
    }
   ],
   "source": [
    "#Question 5\n",
    "def fraction(fstring):\n",
    "    frac=fstring.split('/')\n",
    "    num=int(frac[0])\n",
    "    den=int(frac[1])\n",
    "    return num/den\n",
    "print(fraction('3/4'))\n",
    "print(fraction('1/3'))"
   ]
  },
  {
   "cell_type": "code",
   "execution_count": 29,
   "metadata": {},
   "outputs": [
    {
     "name": "stdout",
     "output_type": "stream",
     "text": [
      "True\n",
      "False\n"
     ]
    }
   ],
   "source": [
    "#Question 6\n",
    "def balance_parens(astring):\n",
    "    c=[]\n",
    "    for letter in astring:\n",
    "        if letter == '(' or letter == ')':\n",
    "            c.append(letter)\n",
    "    open_p=0\n",
    "    for p in c:\n",
    "        if p == '(':\n",
    "            open_p += 1\n",
    "        else:\n",
    "            open_p -= 1\n",
    "        if open_p < 0:\n",
    "            return False\n",
    "    return open_p==0\n",
    "print(balance_parens('A * ( (B + C) – (D – E) )'))\n",
    "print(balance_parens('A ((B * C) + (D '))"
   ]
  }
 ],
 "metadata": {
  "kernelspec": {
   "display_name": "Python 3",
   "language": "python",
   "name": "python3"
  },
  "language_info": {
   "codemirror_mode": {
    "name": "ipython",
    "version": 3
   },
   "file_extension": ".py",
   "mimetype": "text/x-python",
   "name": "python",
   "nbconvert_exporter": "python",
   "pygments_lexer": "ipython3",
   "version": "3.7.4"
  }
 },
 "nbformat": 4,
 "nbformat_minor": 2
}
