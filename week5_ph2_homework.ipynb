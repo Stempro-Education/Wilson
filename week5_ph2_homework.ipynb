{
 "cells": [
  {
   "cell_type": "markdown",
   "metadata": {},
   "source": [
    "<font size=5 color=\"Blue\"><b> Homework for Week 5</b></font><br>\n",
    "<font size=4><b>The excercises in this lecture to have a brief \"try-and-feel\" about python language</b></font><br>\n",
    "<font size=4><b>You may need to ref to the lecture material \"2019-11-17.ppt\" and/or examples in \"Python Lab.ipynb\" for hints</b></font>"
   ]
  },
  {
   "cell_type": "markdown",
   "metadata": {},
   "source": [
    "<font size=5 color=\"green\"><b>Q1: What are the key elements in python (or most other) programming language?</b></font>"
   ]
  },
  {
   "cell_type": "markdown",
   "metadata": {},
   "source": [
    "Write your answer within this cell:\n",
    "\n",
    "variables, control structures, data structures, syntax, tools\n",
    "\n",
    "\n",
    "\n",
    "\n"
   ]
  },
  {
   "cell_type": "markdown",
   "metadata": {},
   "source": [
    "<font size=5 color=\"green\"><b>Q2: How to load the libraries (tools) for a python code? Please try to load a few libraries we have used in the classroom</b></font>"
   ]
  },
  {
   "cell_type": "code",
   "execution_count": 1,
   "metadata": {
    "ExecuteTime": {
     "end_time": "2019-11-19T05:59:01.687535Z",
     "start_time": "2019-11-19T05:59:01.683520Z"
    }
   },
   "outputs": [],
   "source": [
    "## write your anwer within this cell:\n",
    "\n",
    "import nltk\n",
    "\n",
    "\n",
    "\n"
   ]
  },
  {
   "cell_type": "markdown",
   "metadata": {},
   "source": [
    "<font size=5 color=\"green\"><b>Q3: Print is one of the most fundamental command. Load \"pprint\" library. and then compare \"print\" and \"pprint\" </b></font>"
   ]
  },
  {
   "cell_type": "code",
   "execution_count": 2,
   "metadata": {
    "ExecuteTime": {
     "end_time": "2019-11-19T06:10:17.200358Z",
     "start_time": "2019-11-19T06:10:17.198358Z"
    }
   },
   "outputs": [],
   "source": [
    "# 1. load pprint library in this cell:\n",
    "import pprint"
   ]
  },
  {
   "cell_type": "code",
   "execution_count": 3,
   "metadata": {
    "ExecuteTime": {
     "end_time": "2019-11-19T06:11:13.090215Z",
     "start_time": "2019-11-19T06:11:13.085217Z"
    }
   },
   "outputs": [],
   "source": [
    "# this is the data to print. you need to run this cell to load this data\n",
    "data = [\n",
    "    (1, {'a': 'A', 'b': 'B', 'c': 'C', 'd': 'D'}),\n",
    "    (2, {'e': 'E', 'f': 'F', 'g': 'G', 'h': 'H',\n",
    "         'i': 'I', 'j': 'J', 'k': 'K', 'l': 'L'}),\n",
    "    (3, ['m', 'n']),\n",
    "    (4, ['o', 'p', 'q']),\n",
    "    (5, ['r', 's', 't''u', 'v', 'x', 'y', 'z']),\n",
    "]"
   ]
  },
  {
   "cell_type": "code",
   "execution_count": 5,
   "metadata": {},
   "outputs": [
    {
     "name": "stdout",
     "output_type": "stream",
     "text": [
      "[(1, {'a': 'A', 'b': 'B', 'c': 'C', 'd': 'D'}), (2, {'e': 'E', 'f': 'F', 'g': 'G', 'h': 'H', 'i': 'I', 'j': 'J', 'k': 'K', 'l': 'L'}), (3, ['m', 'n']), (4, ['o', 'p', 'q']), (5, ['r', 's', 'tu', 'v', 'x', 'y', 'z'])]\n",
      "[(1, {'a': 'A', 'b': 'B', 'c': 'C', 'd': 'D'}),\n",
      " (2,\n",
      "  {'e': 'E',\n",
      "   'f': 'F',\n",
      "   'g': 'G',\n",
      "   'h': 'H',\n",
      "   'i': 'I',\n",
      "   'j': 'J',\n",
      "   'k': 'K',\n",
      "   'l': 'L'}),\n",
      " (3, ['m', 'n']),\n",
      " (4, ['o', 'p', 'q']),\n",
      " (5, ['r', 's', 'tu', 'v', 'x', 'y', 'z'])]\n"
     ]
    }
   ],
   "source": [
    "# 2. print and pprint \"data\" above within this cell \n",
    "print(data)\n",
    "pprint.pprint(data)"
   ]
  },
  {
   "cell_type": "markdown",
   "metadata": {
    "ExecuteTime": {
     "end_time": "2019-11-19T06:08:15.781043Z",
     "start_time": "2019-11-19T06:08:15.775042Z"
    }
   },
   "source": [
    "<font color=\"red\" size=3><b>3. Advanced: Can you tell what data type(s) is this \"data\" variable? This is not related to pprint. </b></font><br> \n",
    "Explain in the cell below:"
   ]
  },
  {
   "cell_type": "markdown",
   "metadata": {},
   "source": [
    "# answer here:\n",
    "list"
   ]
  },
  {
   "cell_type": "markdown",
   "metadata": {
    "ExecuteTime": {
     "end_time": "2019-11-17T07:47:32.442559Z",
     "start_time": "2019-11-17T07:47:24.800914Z"
    }
   },
   "source": [
    "<font size=5 color=\"green\"><b>Q4: Practice input </b></font><br>\n",
    "1. Use input (i.e. input(\"enter a number\") ) to get the answer for 845+982<br>\n",
    "(ref to Section 2 in \"Python Lab\".ipynb)"
   ]
  },
  {
   "cell_type": "code",
   "execution_count": 8,
   "metadata": {
    "ExecuteTime": {
     "end_time": "2019-11-19T06:40:48.274722Z",
     "start_time": "2019-11-19T06:40:48.271760Z"
    }
   },
   "outputs": [
    {
     "name": "stdout",
     "output_type": "stream",
     "text": [
      "enter a number845\n",
      "enter a number982\n",
      "1827\n"
     ]
    }
   ],
   "source": [
    "# write your answer below: \n",
    "a=int(input(\"enter a number\"))\n",
    "b=int(input(\"enter a number\"))\n",
    "print(a+b)"
   ]
  },
  {
   "cell_type": "markdown",
   "metadata": {},
   "source": [
    "2. Use input (i.e. input(\"enter a number\") ) to get the answer for 3.9+3.14156<br>\n",
    "(ref to Section 4 in \"Python Lab\".ipynb)<br>\n",
    "The answer should have only two decimals"
   ]
  },
  {
   "cell_type": "code",
   "execution_count": 13,
   "metadata": {
    "ExecuteTime": {
     "end_time": "2019-11-19T06:40:51.553491Z",
     "start_time": "2019-11-19T06:40:51.551494Z"
    }
   },
   "outputs": [
    {
     "name": "stdout",
     "output_type": "stream",
     "text": [
      "enter a number3.9\n",
      "enter a number3.14156\n",
      "The sum is 7.0\n"
     ]
    }
   ],
   "source": [
    "# write your answer below: \n",
    "a=float(input(\"enter a number\"))\n",
    "b=float(input(\"enter a number\"))\n",
    "c=a+b\n",
    "print('The sum is {:.1f}'.format(c))"
   ]
  },
  {
   "cell_type": "markdown",
   "metadata": {},
   "source": [
    "<font color=\"red\" size=3><b>3. Advanced: explain what does the following block of code do</b></font><br>  "
   ]
  },
  {
   "cell_type": "code",
   "execution_count": null,
   "metadata": {
    "ExecuteTime": {
     "end_time": "2019-11-19T06:40:54.450610Z",
     "start_time": "2019-11-19T06:40:54.446645Z"
    }
   },
   "outputs": [],
   "source": [
    "#code: \n",
    "def inputNumber(message):\n",
    "  while 1==1:\n",
    "    try:\n",
    "       userInput = int(input(message))       \n",
    "    except ValueError:\n",
    "       print(\"Not an integer! Try again.\")\n",
    "       continue\n",
    "    else:\n",
    "       return userInput \n",
    "       break  \n",
    "    "
   ]
  },
  {
   "cell_type": "markdown",
   "metadata": {},
   "source": [
    "#write your anwer here: \n",
    "It keeps making the user input until they input an integer."
   ]
  },
  {
   "cell_type": "markdown",
   "metadata": {
    "ExecuteTime": {
     "end_time": "2019-11-17T08:14:01.974911Z",
     "start_time": "2019-11-17T08:13:58.364912Z"
    }
   },
   "source": [
    "4. the following two lines may and maynot work. why? "
   ]
  },
  {
   "cell_type": "code",
   "execution_count": 14,
   "metadata": {
    "ExecuteTime": {
     "end_time": "2019-11-19T06:42:03.065208Z",
     "start_time": "2019-11-19T06:42:03.055202Z"
    }
   },
   "outputs": [
    {
     "ename": "NameError",
     "evalue": "name 'getpass' is not defined",
     "output_type": "error",
     "traceback": [
      "\u001b[1;31m---------------------------------------------------------------------------\u001b[0m",
      "\u001b[1;31mNameError\u001b[0m                                 Traceback (most recent call last)",
      "\u001b[1;32m<ipython-input-14-c424062ebd66>\u001b[0m in \u001b[0;36m<module>\u001b[1;34m\u001b[0m\n\u001b[1;32m----> 1\u001b[1;33m \u001b[0muser\u001b[0m \u001b[1;33m=\u001b[0m \u001b[0mgetpass\u001b[0m\u001b[1;33m.\u001b[0m\u001b[0mgetuser\u001b[0m\u001b[1;33m(\u001b[0m\u001b[1;33m)\u001b[0m\u001b[1;33m\u001b[0m\u001b[1;33m\u001b[0m\u001b[0m\n\u001b[0m\u001b[0;32m      2\u001b[0m \u001b[0mpw\u001b[0m\u001b[1;33m=\u001b[0m\u001b[0mgetpass\u001b[0m\u001b[1;33m.\u001b[0m\u001b[0mgetpass\u001b[0m\u001b[1;33m(\u001b[0m\u001b[1;33m)\u001b[0m\u001b[1;33m\u001b[0m\u001b[1;33m\u001b[0m\u001b[0m\n",
      "\u001b[1;31mNameError\u001b[0m: name 'getpass' is not defined"
     ]
    }
   ],
   "source": [
    "user = getpass.getuser() \n",
    "pw=getpass.getpass() "
   ]
  },
  {
   "cell_type": "markdown",
   "metadata": {},
   "source": [
    "#explain your answer here: \n",
    "---------------------------------------------------------------------------\n",
    "NameError                                 Traceback (most recent call last)\n",
    "<ipython-input-14-c424062ebd66> in <module>\n",
    "----> 1 user = getpass.getuser()\n",
    "      2 pw=getpass.getpass()\n",
    "\n",
    "NameError: name 'getpass' is not defined\n",
    "\n"
   ]
  },
  {
   "cell_type": "markdown",
   "metadata": {},
   "source": [
    "<font size=5 color=\"green\"><b>Q5: string operation and function </b></font><br>\n",
    "<b>1. Arranging characters: for inputStr, put all numbers in the front, lower case letters in the middle and upper case letters and others at the end. </b>"
   ]
  },
  {
   "cell_type": "code",
   "execution_count": 15,
   "metadata": {
    "ExecuteTime": {
     "end_time": "2019-11-19T06:50:05.097338Z",
     "start_time": "2019-11-19T06:50:05.094338Z"
    }
   },
   "outputs": [],
   "source": [
    "inputStr = \"Python is a popular programming language. It was created by Guido van Rossum, and released in 1991\""
   ]
  },
  {
   "cell_type": "code",
   "execution_count": 16,
   "metadata": {},
   "outputs": [
    {
     "name": "stdout",
     "output_type": "stream",
     "text": [
      "\n",
      " arranging characters giving precedence to lowercase letters:\n",
      "1991ythonisapopularprogramminglanguagetwascreatedbyuidovanossumandreleasedinP     . I    G  R,    \n"
     ]
    }
   ],
   "source": [
    "#write your answer here:\n",
    "words = inputStr.split()\n",
    "number = []\n",
    "lower = []\n",
    "upper = []\n",
    "for char in inputStr:\n",
    "    if char.islower():\n",
    "        lower.append(char)\n",
    "    elif char.isnumeric():\n",
    "        number.append(char)\n",
    "    else:\n",
    "        upper.append(char)\n",
    "sortedString = ''.join(number + lower + upper)\n",
    "print(\"\\n arranging characters giving precedence to lowercase letters:\")\n",
    "print(sortedString)\n",
    "\n",
    "\n",
    "\n",
    "\n",
    "\n"
   ]
  },
  {
   "cell_type": "markdown",
   "metadata": {
    "ExecuteTime": {
     "end_time": "2019-11-19T07:02:49.055518Z",
     "start_time": "2019-11-19T07:02:49.050519Z"
    }
   },
   "source": [
    "<b>2. Explain the following block of code. Run the code  </b>"
   ]
  },
  {
   "cell_type": "code",
   "execution_count": 17,
   "metadata": {
    "ExecuteTime": {
     "end_time": "2019-11-19T06:57:31.729434Z",
     "start_time": "2019-11-19T06:57:31.725414Z"
    }
   },
   "outputs": [
    {
     "name": "stdout",
     "output_type": "stream",
     "text": [
      "Total Marks is: 14.7 Percentage is  3.675\n"
     ]
    }
   ],
   "source": [
    "import re\n",
    "myReportCard = \"Physics: 4.0, English:3.3, Chinese: 3.9, Precalculus: 3.5 what is my averge gpa?\"\n",
    "scoreList = [float(num) for num in re.findall(r'-?\\d+\\.?\\d*', myReportCard)] \n",
    "total = 0.0\n",
    "for scroe in scoreList:\n",
    "    total+=scroe\n",
    "\n",
    "percentage = total/len(scoreList)  \n",
    "print(\"Total Marks is:\", total, \"Percentage is \", percentage) "
   ]
  },
  {
   "cell_type": "markdown",
   "metadata": {},
   "source": [
    "#Answer here: \n",
    "It calculates the average gpa out of the values you enter.\n",
    "\n",
    "\n"
   ]
  },
  {
   "cell_type": "markdown",
   "metadata": {},
   "source": [
    "<font color=\"red\" size=3><b>Advanced: 3. write a function that will do the same as above block of code </b></font><br>  "
   ]
  },
  {
   "cell_type": "code",
   "execution_count": 18,
   "metadata": {
    "ExecuteTime": {
     "end_time": "2019-11-19T07:01:41.525900Z",
     "start_time": "2019-11-19T07:01:41.521930Z"
    }
   },
   "outputs": [],
   "source": [
    "student_reportcard=\"Peter --Physics: 4.0, English:3.3, Chinese: 3.9, Precalculus: 3.5\"\n",
    "def get_gpa(student_reportcard):\n",
    "    #fill your code here. \n",
    "    import re\n",
    "    scoreList = [float(num) for num in re.findall(r'-?\\d+\\.?\\d*', student_reportcard)] \n",
    "    total = 0.0\n",
    "    for s in scoreList:\n",
    "        total+=s\n",
    "\n",
    "    percentage = total/len(scoreList)  \n",
    "    print(\"Total Marks is:\", total, \"GPA is:\", percentage) "
   ]
  },
  {
   "cell_type": "code",
   "execution_count": 19,
   "metadata": {},
   "outputs": [
    {
     "name": "stdout",
     "output_type": "stream",
     "text": [
      "Total Marks is: 14.7 GPA is: 3.675\n"
     ]
    }
   ],
   "source": [
    "#run your function: \n",
    "get_gpa(student_reportcard)"
   ]
  },
  {
   "cell_type": "code",
   "execution_count": null,
   "metadata": {},
   "outputs": [],
   "source": []
  }
 ],
 "metadata": {
  "kernelspec": {
   "display_name": "Python 3",
   "language": "python",
   "name": "python3"
  },
  "language_info": {
   "codemirror_mode": {
    "name": "ipython",
    "version": 3
   },
   "file_extension": ".py",
   "mimetype": "text/x-python",
   "name": "python",
   "nbconvert_exporter": "python",
   "pygments_lexer": "ipython3",
   "version": "3.7.4"
  },
  "toc": {
   "base_numbering": 1,
   "nav_menu": {},
   "number_sections": true,
   "sideBar": true,
   "skip_h1_title": false,
   "title_cell": "Table of Contents",
   "title_sidebar": "Contents",
   "toc_cell": false,
   "toc_position": {},
   "toc_section_display": true,
   "toc_window_display": true
  }
 },
 "nbformat": 4,
 "nbformat_minor": 2
}
