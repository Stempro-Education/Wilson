{
 "cells": [
  {
   "cell_type": "markdown",
   "metadata": {},
   "source": [
    "# Week 4 of Phase 2 Homework\n",
    "<font size=4 color=\"Red\">Due: Dec 1 2019</font>"
   ]
  },
  {
   "cell_type": "markdown",
   "metadata": {},
   "source": [
    "<html>\n",
    "    <h1>Recap of Week 4 of Phase II</h1>\n",
    "    <body>This week we covered: \n",
    "            <ul>\n",
    "                <li>Technology Review. We choose Django, Redis and ReactJS for our web application which mainly hosts our ai models</li>\n",
    "                <li>HTML and a few VS Code extension: \n",
    "                    <ol><li>Auto Close Tag</li><li>Auto Rename Tag</li><li>Live Server</li><li>Auto Tag Wrapper</li><li>open in brower</li></ol>\n",
    "                </li>\n",
    "                <li>Install django and mini lab</li>\n",
    "                <li>Install reactjs and mini lab</li>\n",
    "                <li>Docker Introduction</li>\n",
    "                <li>Docker installation and Ben's Demo</li>  \n",
    "            </ul>  \n",
    "    </body>  \n",
    "<br>\n",
    "<h1>\n",
    "    This Week's homework includes:</h1>\n",
    "    <ol>\n",
    "        <li>Study HTML and show-n-tell web-page struture</li>\n",
    "        <li>Get familiar and use Visual Studio Code to write a simple code</li>\n",
    "        <li>Make an HTML webpage of your family's Thanksgiving dinner meal receipe in VS Code</li>\n",
    "        <li>Submit your codes in step 2 and 3 to your repository. Branch name: y2019nov24 </li>\n",
    "        <li>Consult with your parents, choose tasks of your interests </li>\n",
    "    </ol> \n",
    "</html>"
   ]
  },
  {
   "cell_type": "markdown",
   "metadata": {},
   "source": [
    "# Homework"
   ]
  },
  {
   "cell_type": "markdown",
   "metadata": {},
   "source": [
    "<font size=5 color=\"Olive\"><b> Question 1:Study HTML and show-n-tell web-page struture</b></font> "
   ]
  },
  {
   "cell_type": "markdown",
   "metadata": {},
   "source": [
    "There are many resources for studying HTML. One of the most resourceful site is w3schools. \n",
    "<br>I recommend this site for your study: \n",
    "<br>https://www.w3schools.com/html/html5_intro.asp\n",
    "<br>\n",
    "You are encourage to study more if time allows. Although there is no specific requirements, I am expecting you to complete this session as a minimum: <br>\n",
    "https://www.w3schools.com/html/html_basic.asp \n",
    "<br>\n",
    "<font size=4 color=\"red\"><b>You will have 3 to 5 minutes to teach us about your understand of an HTML page </b></font>"
   ]
  },
  {
   "cell_type": "markdown",
   "metadata": {
    "ExecuteTime": {
     "end_time": "2019-11-26T04:14:44.121935Z",
     "start_time": "2019-11-26T04:14:44.115931Z"
    }
   },
   "source": [
    "<font size=5 color=\"Olive\"><b> Question 2:Get familiar and use Visual Studio Code to write a simple code</b></font> "
   ]
  },
  {
   "cell_type": "markdown",
   "metadata": {},
   "source": [
    "use what you have learned about Visual Studio Code (VS Code). \n",
    "<br>Open VS Code\n",
    "<br>create a new python file \n",
    "<br>write some code to do this math: \n",
    "<br>1+2+......+50\n",
    "\n",
    "<br>hints: <br>1). python file ends with .py <br>2). you can use any approach. "
   ]
  },
  {
   "cell_type": "markdown",
   "metadata": {},
   "source": [
    "<font size=5 color=\"Olive\"><b> Question 3:Make an HTML webpage of your family's Thanksgiving dinner meal receipe in VS Code</b></font> "
   ]
  },
  {
   "cell_type": "markdown",
   "metadata": {},
   "source": [
    "<font size=4 color=\"green\" ><b>Isn't amazing that you may include some pictures in your html page? </b></font>\n",
    "<br>hints: \n",
    "<br>review some examples and samples"
   ]
  },
  {
   "cell_type": "markdown",
   "metadata": {
    "ExecuteTime": {
     "end_time": "2019-11-26T04:23:59.975022Z",
     "start_time": "2019-11-26T04:23:59.971008Z"
    }
   },
   "source": [
    "<font size=5 color=\"Olive\"><b> Question 4: Submit your codes in step 2 and 3 to your repository. Branch name: y2019nov24</b></font> "
   ]
  },
  {
   "cell_type": "markdown",
   "metadata": {},
   "source": [
    "Branch y2019nov24 has already been created to your repository. \n",
    "<br>\n",
    "If you are not familiar with git hub yet, go<font size=4><b> \n",
    "<a href=\"https://drive.google.com/file/d/1HhuDlbVTVcIMVs1_mOpyDvmuFOibfG_n/view?usp=sharing\">Sign up Make-up and Tutorial</a></b></font> to sign up. \n",
    "<br> Please note whether you choose any task, git/gighub is a must-have skills. "
   ]
  },
  {
   "cell_type": "markdown",
   "metadata": {},
   "source": [
    "<font size=5 color=\"Olive\"><b> Question 5: Have a well-informed and serious discussion with your parents/guardians, hoose tasks of your interests</b></font> "
   ]
  },
  {
   "cell_type": "markdown",
   "metadata": {
    "ExecuteTime": {
     "end_time": "2019-11-26T04:38:18.342413Z",
     "start_time": "2019-11-26T04:38:18.336449Z"
    }
   },
   "source": [
    "Enroll your in the <font size=4><b><a href=\"https://drive.google.com/file/d/1M2K7FXzIWyz6KT6uglZqu6mV3BhIO17U/view?usp=sharing\">Interest and Task Selector</a></b></font>to choose your task. Each student has a tab in this excel tool. \n",
    "<br>This is very important for our Phase III. \n",
    "<br>if any questions, please email yong.ma@stempro.org\n",
    "<br>or call me @425-750-9516\n"
   ]
  },
  {
   "cell_type": "code",
   "execution_count": null,
   "metadata": {},
   "outputs": [],
   "source": []
  }
 ],
 "metadata": {
  "kernelspec": {
   "display_name": "Python 3",
   "language": "python",
   "name": "python3"
  },
  "language_info": {
   "codemirror_mode": {
    "name": "ipython",
    "version": 3
   },
   "file_extension": ".py",
   "mimetype": "text/x-python",
   "name": "python",
   "nbconvert_exporter": "python",
   "pygments_lexer": "ipython3",
   "version": "3.7.4"
  },
  "toc": {
   "base_numbering": 1,
   "nav_menu": {},
   "number_sections": true,
   "sideBar": true,
   "skip_h1_title": false,
   "title_cell": "Table of Contents",
   "title_sidebar": "Contents",
   "toc_cell": false,
   "toc_position": {},
   "toc_section_display": true,
   "toc_window_display": true
  }
 },
 "nbformat": 4,
 "nbformat_minor": 2
}
