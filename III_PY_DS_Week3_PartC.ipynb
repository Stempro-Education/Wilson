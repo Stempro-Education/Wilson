{
 "cells": [
  {
   "cell_type": "markdown",
   "metadata": {},
   "source": [
    "<font size=6 bold=true>Dec 21 -- Part C\n",
    "<br><br>Data Structure</font>\n",
    "\n",
    "<font size=5 color='Olive'>For the first 5 lessons, DS will be combined with Python due to insufficiencies of Concepts</font>"
   ]
  },
  {
   "cell_type": "code",
   "execution_count": 1,
   "metadata": {
    "ExecuteTime": {
     "end_time": "2019-12-22T05:27:41.294420Z",
     "start_time": "2019-12-22T05:27:40.477399Z"
    }
   },
   "outputs": [],
   "source": [
    "import re\n",
    "import sys\n",
    "import os\n",
    "from os import path\n",
    "from datetime import datetime"
   ]
  },
  {
   "cell_type": "markdown",
   "metadata": {},
   "source": [
    "# Data types and functions. We were there. "
   ]
  },
  {
   "cell_type": "markdown",
   "metadata": {},
   "source": [
    "Numbers<br>\n",
    "String<br>\n",
    "List<br>\n",
    "Tuple<br>\n",
    "Set<br>\n",
    "Dictionary"
   ]
  },
  {
   "cell_type": "markdown",
   "metadata": {},
   "source": [
    "<br><font size=5>Functions Revisit</font>"
   ]
  },
  {
   "cell_type": "code",
   "execution_count": 24,
   "metadata": {
    "ExecuteTime": {
     "end_time": "2019-12-22T15:19:50.731585Z",
     "start_time": "2019-12-22T15:19:50.725580Z"
    }
   },
   "outputs": [],
   "source": [
    "#1: \n",
    "import os\n",
    "from datetime import datetime\n",
    "\n",
    "def generate_defaultfilename():\n",
    "    folder=os.getcwd()\n",
    "    filename=datetime.now().strftime(\"%b\")+'_'+datetime.now().strftime(\"%m_%d_%Y_%H_%M_%S\")+'.csv' \n",
    "    return path.join(folder, filename) \n",
    "\n",
    "#generate_defaultfilename()   "
   ]
  },
  {
   "cell_type": "code",
   "execution_count": 26,
   "metadata": {
    "ExecuteTime": {
     "end_time": "2019-12-22T15:20:27.990990Z",
     "start_time": "2019-12-22T15:20:27.984988Z"
    }
   },
   "outputs": [],
   "source": [
    "# 2\n",
    "def read_oneurl(url):  \n",
    "    response=requests.get(url)  \n",
    "    if response.status_code==200: \n",
    "        return get_pagetext(response)\n",
    "    else: \n",
    "        return [[None, None, None, None]]"
   ]
  },
  {
   "cell_type": "code",
   "execution_count": 92,
   "metadata": {
    "ExecuteTime": {
     "end_time": "2019-12-22T15:41:35.570710Z",
     "start_time": "2019-12-22T15:41:35.557698Z"
    },
    "scrolled": true
   },
   "outputs": [
    {
     "data": {
      "text/html": [
       "<div>\n",
       "<style scoped>\n",
       "    .dataframe tbody tr th:only-of-type {\n",
       "        vertical-align: middle;\n",
       "    }\n",
       "\n",
       "    .dataframe tbody tr th {\n",
       "        vertical-align: top;\n",
       "    }\n",
       "\n",
       "    .dataframe thead th {\n",
       "        text-align: right;\n",
       "    }\n",
       "</style>\n",
       "<table border=\"1\" class=\"dataframe\">\n",
       "  <thead>\n",
       "    <tr style=\"text-align: right;\">\n",
       "      <th></th>\n",
       "      <th>InstitutionName</th>\n",
       "      <th>UnitID</th>\n",
       "      <th>ParentID</th>\n",
       "      <th>OPEID</th>\n",
       "      <th>InstitutionType</th>\n",
       "      <th>Address</th>\n",
       "      <th>City</th>\n",
       "      <th>State</th>\n",
       "      <th>HasHistory</th>\n",
       "    </tr>\n",
       "  </thead>\n",
       "  <tbody>\n",
       "    <tr>\n",
       "      <td>39</td>\n",
       "      <td>Central Washington University</td>\n",
       "      <td>148496</td>\n",
       "      <td>0</td>\n",
       "      <td>377100</td>\n",
       "      <td>Institution</td>\n",
       "      <td>400 East University Way</td>\n",
       "      <td>Ellensburg</td>\n",
       "      <td>WA</td>\n",
       "      <td>False</td>\n",
       "    </tr>\n",
       "    <tr>\n",
       "      <td>63</td>\n",
       "      <td>Eastern Washington University</td>\n",
       "      <td>148593</td>\n",
       "      <td>0</td>\n",
       "      <td>377500</td>\n",
       "      <td>Institution</td>\n",
       "      <td>526 5th Street</td>\n",
       "      <td>Cheney</td>\n",
       "      <td>WA</td>\n",
       "      <td>False</td>\n",
       "    </tr>\n",
       "    <tr>\n",
       "      <td>115</td>\n",
       "      <td>Kaiser Permanente Washington Residency in Prim...</td>\n",
       "      <td>216782</td>\n",
       "      <td>0</td>\n",
       "      <td>NaN</td>\n",
       "      <td>Site</td>\n",
       "      <td>5821 S. Sprague Court</td>\n",
       "      <td>Tacoma</td>\n",
       "      <td>WA</td>\n",
       "      <td>True</td>\n",
       "    </tr>\n",
       "    <tr>\n",
       "      <td>120</td>\n",
       "      <td>Lake Washington Institute of Technology</td>\n",
       "      <td>148803</td>\n",
       "      <td>0</td>\n",
       "      <td>537300</td>\n",
       "      <td>Institution</td>\n",
       "      <td>11605 132nd Avenue NE</td>\n",
       "      <td>Kirkland</td>\n",
       "      <td>WA</td>\n",
       "      <td>True</td>\n",
       "    </tr>\n",
       "    <tr>\n",
       "      <td>130</td>\n",
       "      <td>Montessori Center for Teacher Education - Wash...</td>\n",
       "      <td>216436</td>\n",
       "      <td>0</td>\n",
       "      <td>NaN</td>\n",
       "      <td>Institution</td>\n",
       "      <td>10723 NE 38th Place</td>\n",
       "      <td>Bellevue</td>\n",
       "      <td>WA</td>\n",
       "      <td>False</td>\n",
       "    </tr>\n",
       "    <tr>\n",
       "      <td>136</td>\n",
       "      <td>Montessori Schools of Washington</td>\n",
       "      <td>165699</td>\n",
       "      <td>0</td>\n",
       "      <td>NaN</td>\n",
       "      <td>Institution</td>\n",
       "      <td>1804 Puget Dr.</td>\n",
       "      <td>Everett</td>\n",
       "      <td>WA</td>\n",
       "      <td>False</td>\n",
       "    </tr>\n",
       "    <tr>\n",
       "      <td>138</td>\n",
       "      <td>Montessori Teacher Preparation of Washington</td>\n",
       "      <td>178970</td>\n",
       "      <td>0</td>\n",
       "      <td>NaN</td>\n",
       "      <td>Institution</td>\n",
       "      <td>318 3rd Avenue South</td>\n",
       "      <td>Kent</td>\n",
       "      <td>WA</td>\n",
       "      <td>False</td>\n",
       "    </tr>\n",
       "    <tr>\n",
       "      <td>220</td>\n",
       "      <td>University of Washington</td>\n",
       "      <td>149143</td>\n",
       "      <td>0</td>\n",
       "      <td>379800</td>\n",
       "      <td>Institution</td>\n",
       "      <td>P.O. Box 351230</td>\n",
       "      <td>Seattle</td>\n",
       "      <td>WA</td>\n",
       "      <td>False</td>\n",
       "    </tr>\n",
       "    <tr>\n",
       "      <td>228</td>\n",
       "      <td>Washington State University</td>\n",
       "      <td>149134</td>\n",
       "      <td>0</td>\n",
       "      <td>380000</td>\n",
       "      <td>Institution</td>\n",
       "      <td>French Administration Building</td>\n",
       "      <td>Pullman</td>\n",
       "      <td>WA</td>\n",
       "      <td>False</td>\n",
       "    </tr>\n",
       "    <tr>\n",
       "      <td>229</td>\n",
       "      <td>Washington State University-Spokane</td>\n",
       "      <td>238829</td>\n",
       "      <td>0</td>\n",
       "      <td>NaN</td>\n",
       "      <td>Site</td>\n",
       "      <td>310 N. Riverpoint Blvd_ P.O Box 1495</td>\n",
       "      <td>Spokane</td>\n",
       "      <td>WA</td>\n",
       "      <td>False</td>\n",
       "    </tr>\n",
       "    <tr>\n",
       "      <td>233</td>\n",
       "      <td>Western Washington University</td>\n",
       "      <td>149170</td>\n",
       "      <td>0</td>\n",
       "      <td>380200</td>\n",
       "      <td>Institution</td>\n",
       "      <td>516 High St</td>\n",
       "      <td>Bellingham</td>\n",
       "      <td>WA</td>\n",
       "      <td>False</td>\n",
       "    </tr>\n",
       "  </tbody>\n",
       "</table>\n",
       "</div>"
      ],
      "text/plain": [
       "                                       InstitutionName  UnitID  ParentID  \\\n",
       "39                       Central Washington University  148496         0   \n",
       "63                       Eastern Washington University  148593         0   \n",
       "115  Kaiser Permanente Washington Residency in Prim...  216782         0   \n",
       "120            Lake Washington Institute of Technology  148803         0   \n",
       "130  Montessori Center for Teacher Education - Wash...  216436         0   \n",
       "136                   Montessori Schools of Washington  165699         0   \n",
       "138       Montessori Teacher Preparation of Washington  178970         0   \n",
       "220                           University of Washington  149143         0   \n",
       "228                        Washington State University  149134         0   \n",
       "229                Washington State University-Spokane  238829         0   \n",
       "233                      Western Washington University  149170         0   \n",
       "\n",
       "      OPEID InstitutionType                               Address        City  \\\n",
       "39   377100     Institution               400 East University Way  Ellensburg   \n",
       "63   377500     Institution                        526 5th Street      Cheney   \n",
       "115     NaN            Site                 5821 S. Sprague Court      Tacoma   \n",
       "120  537300     Institution                 11605 132nd Avenue NE    Kirkland   \n",
       "130     NaN     Institution                   10723 NE 38th Place    Bellevue   \n",
       "136     NaN     Institution                        1804 Puget Dr.     Everett   \n",
       "138     NaN     Institution                  318 3rd Avenue South        Kent   \n",
       "220  379800     Institution                       P.O. Box 351230     Seattle   \n",
       "228  380000     Institution        French Administration Building     Pullman   \n",
       "229     NaN            Site  310 N. Riverpoint Blvd_ P.O Box 1495     Spokane   \n",
       "233  380200     Institution                           516 High St  Bellingham   \n",
       "\n",
       "    State  HasHistory  \n",
       "39     WA       False  \n",
       "63     WA       False  \n",
       "115    WA        True  \n",
       "120    WA        True  \n",
       "130    WA       False  \n",
       "136    WA       False  \n",
       "138    WA       False  \n",
       "220    WA       False  \n",
       "228    WA       False  \n",
       "229    WA       False  \n",
       "233    WA       False  "
      ]
     },
     "execution_count": 92,
     "metadata": {},
     "output_type": "execute_result"
    }
   ],
   "source": [
    "#3:  \n",
    "import pandas as pd\n",
    "df_coll=pd.read_csv('C:\\\\Users\\\\wilso\\\\Phase 3 Week 3\\\\WAColleges.csv')\n",
    " \n",
    "def get_universitylist(df_coll, namelike='', state='WA'):\n",
    "    return df_coll[(df_coll['InstitutionName'].str.contains(namelike)) & (df_coll['State']==state)]\n",
    "\n",
    "get_universitylist(df_coll,'Washington')"
   ]
  },
  {
   "cell_type": "code",
   "execution_count": 59,
   "metadata": {},
   "outputs": [
    {
     "data": {
      "text/html": [
       "<div>\n",
       "<style scoped>\n",
       "    .dataframe tbody tr th:only-of-type {\n",
       "        vertical-align: middle;\n",
       "    }\n",
       "\n",
       "    .dataframe tbody tr th {\n",
       "        vertical-align: top;\n",
       "    }\n",
       "\n",
       "    .dataframe thead th {\n",
       "        text-align: right;\n",
       "    }\n",
       "</style>\n",
       "<table border=\"1\" class=\"dataframe\">\n",
       "  <thead>\n",
       "    <tr style=\"text-align: right;\">\n",
       "      <th></th>\n",
       "      <th>InstitutionName</th>\n",
       "      <th>UnitID</th>\n",
       "      <th>ParentID</th>\n",
       "      <th>OPEID</th>\n",
       "      <th>InstitutionType</th>\n",
       "      <th>Address</th>\n",
       "      <th>City</th>\n",
       "      <th>State</th>\n",
       "      <th>HasHistory</th>\n",
       "    </tr>\n",
       "  </thead>\n",
       "  <tbody>\n",
       "    <tr>\n",
       "      <td>0</td>\n",
       "      <td>Academy of Cosmetology_ L.L.C.</td>\n",
       "      <td>214670</td>\n",
       "      <td>0</td>\n",
       "      <td>4172900</td>\n",
       "      <td>Institution</td>\n",
       "      <td>1368 Jadwin Avenue</td>\n",
       "      <td>Richland</td>\n",
       "      <td>WA</td>\n",
       "      <td>True</td>\n",
       "    </tr>\n",
       "    <tr>\n",
       "      <td>1</td>\n",
       "      <td>Academy of Interactive Entertainment</td>\n",
       "      <td>229540</td>\n",
       "      <td>0</td>\n",
       "      <td>4223600</td>\n",
       "      <td>Institution</td>\n",
       "      <td>305 Harrison Street</td>\n",
       "      <td>Seattle</td>\n",
       "      <td>WA</td>\n",
       "      <td>False</td>\n",
       "    </tr>\n",
       "    <tr>\n",
       "      <td>2</td>\n",
       "      <td>Age of Montessori</td>\n",
       "      <td>241058</td>\n",
       "      <td>0</td>\n",
       "      <td>NaN</td>\n",
       "      <td>Institution</td>\n",
       "      <td>301 Evergreen Drive</td>\n",
       "      <td>Bozeman</td>\n",
       "      <td>MT</td>\n",
       "      <td>True</td>\n",
       "    </tr>\n",
       "    <tr>\n",
       "      <td>3</td>\n",
       "      <td>Airstreams Renewables_ Inc.</td>\n",
       "      <td>227368</td>\n",
       "      <td>0</td>\n",
       "      <td>NaN</td>\n",
       "      <td>Institution</td>\n",
       "      <td>410 West J Street_ Suite B</td>\n",
       "      <td>Tehachapi</td>\n",
       "      <td>CA</td>\n",
       "      <td>True</td>\n",
       "    </tr>\n",
       "    <tr>\n",
       "      <td>4</td>\n",
       "      <td>Alpine College</td>\n",
       "      <td>188562</td>\n",
       "      <td>0</td>\n",
       "      <td>4043400</td>\n",
       "      <td>Institution</td>\n",
       "      <td>10020 E. Knox Ave. Suite 500</td>\n",
       "      <td>Spokane Valley</td>\n",
       "      <td>WA</td>\n",
       "      <td>True</td>\n",
       "    </tr>\n",
       "    <tr>\n",
       "      <td>...</td>\n",
       "      <td>...</td>\n",
       "      <td>...</td>\n",
       "      <td>...</td>\n",
       "      <td>...</td>\n",
       "      <td>...</td>\n",
       "      <td>...</td>\n",
       "      <td>...</td>\n",
       "      <td>...</td>\n",
       "      <td>...</td>\n",
       "    </tr>\n",
       "    <tr>\n",
       "      <td>236</td>\n",
       "      <td>Whitworth University</td>\n",
       "      <td>149204</td>\n",
       "      <td>0</td>\n",
       "      <td>380400</td>\n",
       "      <td>Institution</td>\n",
       "      <td>300 W Hawthorne Rd</td>\n",
       "      <td>Spokane</td>\n",
       "      <td>WA</td>\n",
       "      <td>True</td>\n",
       "    </tr>\n",
       "    <tr>\n",
       "      <td>237</td>\n",
       "      <td>Wu Hsing Tao School</td>\n",
       "      <td>185837</td>\n",
       "      <td>0</td>\n",
       "      <td>NaN</td>\n",
       "      <td>Institution</td>\n",
       "      <td>4000 ME 41st Street_ Bldg. D_ Ste. 1</td>\n",
       "      <td>Seattle</td>\n",
       "      <td>WA</td>\n",
       "      <td>False</td>\n",
       "    </tr>\n",
       "    <tr>\n",
       "      <td>238</td>\n",
       "      <td>Yakima Beauty School; Beauty Works</td>\n",
       "      <td>191296</td>\n",
       "      <td>0</td>\n",
       "      <td>3953300</td>\n",
       "      <td>Institution</td>\n",
       "      <td>401 North First Street</td>\n",
       "      <td>Yakima</td>\n",
       "      <td>WA</td>\n",
       "      <td>True</td>\n",
       "    </tr>\n",
       "    <tr>\n",
       "      <td>239</td>\n",
       "      <td>Yakima Valley Community College</td>\n",
       "      <td>149213</td>\n",
       "      <td>0</td>\n",
       "      <td>380500</td>\n",
       "      <td>Institution</td>\n",
       "      <td>Sixteenth and Nob Hill Boulevard</td>\n",
       "      <td>Yakima</td>\n",
       "      <td>WA</td>\n",
       "      <td>False</td>\n",
       "    </tr>\n",
       "    <tr>\n",
       "      <td>240</td>\n",
       "      <td>Yakima Valley Farm Workers Clinic - Northwest ...</td>\n",
       "      <td>209445</td>\n",
       "      <td>0</td>\n",
       "      <td>NaN</td>\n",
       "      <td>Site</td>\n",
       "      <td>518 W. First Avenue</td>\n",
       "      <td>Toppenish</td>\n",
       "      <td>WA</td>\n",
       "      <td>False</td>\n",
       "    </tr>\n",
       "  </tbody>\n",
       "</table>\n",
       "<p>241 rows × 9 columns</p>\n",
       "</div>"
      ],
      "text/plain": [
       "                                       InstitutionName  UnitID  ParentID  \\\n",
       "0                       Academy of Cosmetology_ L.L.C.  214670         0   \n",
       "1                 Academy of Interactive Entertainment  229540         0   \n",
       "2                                    Age of Montessori  241058         0   \n",
       "3                          Airstreams Renewables_ Inc.  227368         0   \n",
       "4                                       Alpine College  188562         0   \n",
       "..                                                 ...     ...       ...   \n",
       "236                               Whitworth University  149204         0   \n",
       "237                                Wu Hsing Tao School  185837         0   \n",
       "238                 Yakima Beauty School; Beauty Works  191296         0   \n",
       "239                    Yakima Valley Community College  149213         0   \n",
       "240  Yakima Valley Farm Workers Clinic - Northwest ...  209445         0   \n",
       "\n",
       "       OPEID InstitutionType                               Address  \\\n",
       "0    4172900     Institution                    1368 Jadwin Avenue   \n",
       "1    4223600     Institution                   305 Harrison Street   \n",
       "2        NaN     Institution                   301 Evergreen Drive   \n",
       "3        NaN     Institution            410 West J Street_ Suite B   \n",
       "4    4043400     Institution          10020 E. Knox Ave. Suite 500   \n",
       "..       ...             ...                                   ...   \n",
       "236   380400     Institution                    300 W Hawthorne Rd   \n",
       "237      NaN     Institution  4000 ME 41st Street_ Bldg. D_ Ste. 1   \n",
       "238  3953300     Institution                401 North First Street   \n",
       "239   380500     Institution      Sixteenth and Nob Hill Boulevard   \n",
       "240      NaN            Site                   518 W. First Avenue   \n",
       "\n",
       "               City State  HasHistory  \n",
       "0          Richland    WA        True  \n",
       "1           Seattle    WA       False  \n",
       "2           Bozeman    MT        True  \n",
       "3         Tehachapi    CA        True  \n",
       "4    Spokane Valley    WA        True  \n",
       "..              ...   ...         ...  \n",
       "236         Spokane    WA        True  \n",
       "237         Seattle    WA       False  \n",
       "238          Yakima    WA        True  \n",
       "239          Yakima    WA       False  \n",
       "240       Toppenish    WA       False  \n",
       "\n",
       "[241 rows x 9 columns]"
      ]
     },
     "execution_count": 59,
     "metadata": {},
     "output_type": "execute_result"
    }
   ],
   "source": [
    "df_coll"
   ]
  },
  {
   "cell_type": "code",
   "execution_count": 64,
   "metadata": {},
   "outputs": [
    {
     "data": {
      "text/html": [
       "<div>\n",
       "<style scoped>\n",
       "    .dataframe tbody tr th:only-of-type {\n",
       "        vertical-align: middle;\n",
       "    }\n",
       "\n",
       "    .dataframe tbody tr th {\n",
       "        vertical-align: top;\n",
       "    }\n",
       "\n",
       "    .dataframe thead th {\n",
       "        text-align: right;\n",
       "    }\n",
       "</style>\n",
       "<table border=\"1\" class=\"dataframe\">\n",
       "  <thead>\n",
       "    <tr style=\"text-align: right;\">\n",
       "      <th></th>\n",
       "      <th>InstitutionName</th>\n",
       "      <th>UnitID</th>\n",
       "      <th>ParentID</th>\n",
       "      <th>OPEID</th>\n",
       "      <th>InstitutionType</th>\n",
       "      <th>Address</th>\n",
       "      <th>City</th>\n",
       "      <th>State</th>\n",
       "      <th>HasHistory</th>\n",
       "    </tr>\n",
       "  </thead>\n",
       "  <tbody>\n",
       "    <tr>\n",
       "      <td>232</td>\n",
       "      <td>Western State Hospital</td>\n",
       "      <td>196972</td>\n",
       "      <td>0</td>\n",
       "      <td>NaN</td>\n",
       "      <td>Site</td>\n",
       "      <td>9601 Steilacoom Boulevard_ SW</td>\n",
       "      <td>Tacoma</td>\n",
       "      <td>WA</td>\n",
       "      <td>False</td>\n",
       "    </tr>\n",
       "    <tr>\n",
       "      <td>233</td>\n",
       "      <td>Western Washington University</td>\n",
       "      <td>149170</td>\n",
       "      <td>0</td>\n",
       "      <td>380200</td>\n",
       "      <td>Institution</td>\n",
       "      <td>516 High St</td>\n",
       "      <td>Bellingham</td>\n",
       "      <td>WA</td>\n",
       "      <td>False</td>\n",
       "    </tr>\n",
       "    <tr>\n",
       "      <td>234</td>\n",
       "      <td>Whatcom Community College</td>\n",
       "      <td>149189</td>\n",
       "      <td>0</td>\n",
       "      <td>1036400</td>\n",
       "      <td>Institution</td>\n",
       "      <td>237 W Kellogg Rd</td>\n",
       "      <td>Bellingham</td>\n",
       "      <td>WA</td>\n",
       "      <td>False</td>\n",
       "    </tr>\n",
       "    <tr>\n",
       "      <td>235</td>\n",
       "      <td>Whitman College</td>\n",
       "      <td>149198</td>\n",
       "      <td>0</td>\n",
       "      <td>380300</td>\n",
       "      <td>Institution</td>\n",
       "      <td>345 Boyer Ave</td>\n",
       "      <td>Walla Walla</td>\n",
       "      <td>WA</td>\n",
       "      <td>False</td>\n",
       "    </tr>\n",
       "    <tr>\n",
       "      <td>236</td>\n",
       "      <td>Whitworth University</td>\n",
       "      <td>149204</td>\n",
       "      <td>0</td>\n",
       "      <td>380400</td>\n",
       "      <td>Institution</td>\n",
       "      <td>300 W Hawthorne Rd</td>\n",
       "      <td>Spokane</td>\n",
       "      <td>WA</td>\n",
       "      <td>True</td>\n",
       "    </tr>\n",
       "    <tr>\n",
       "      <td>237</td>\n",
       "      <td>Wu Hsing Tao School</td>\n",
       "      <td>185837</td>\n",
       "      <td>0</td>\n",
       "      <td>NaN</td>\n",
       "      <td>Institution</td>\n",
       "      <td>4000 ME 41st Street_ Bldg. D_ Ste. 1</td>\n",
       "      <td>Seattle</td>\n",
       "      <td>WA</td>\n",
       "      <td>False</td>\n",
       "    </tr>\n",
       "    <tr>\n",
       "      <td>238</td>\n",
       "      <td>Yakima Beauty School; Beauty Works</td>\n",
       "      <td>191296</td>\n",
       "      <td>0</td>\n",
       "      <td>3953300</td>\n",
       "      <td>Institution</td>\n",
       "      <td>401 North First Street</td>\n",
       "      <td>Yakima</td>\n",
       "      <td>WA</td>\n",
       "      <td>True</td>\n",
       "    </tr>\n",
       "    <tr>\n",
       "      <td>239</td>\n",
       "      <td>Yakima Valley Community College</td>\n",
       "      <td>149213</td>\n",
       "      <td>0</td>\n",
       "      <td>380500</td>\n",
       "      <td>Institution</td>\n",
       "      <td>Sixteenth and Nob Hill Boulevard</td>\n",
       "      <td>Yakima</td>\n",
       "      <td>WA</td>\n",
       "      <td>False</td>\n",
       "    </tr>\n",
       "    <tr>\n",
       "      <td>240</td>\n",
       "      <td>Yakima Valley Farm Workers Clinic - Northwest ...</td>\n",
       "      <td>209445</td>\n",
       "      <td>0</td>\n",
       "      <td>NaN</td>\n",
       "      <td>Site</td>\n",
       "      <td>518 W. First Avenue</td>\n",
       "      <td>Toppenish</td>\n",
       "      <td>WA</td>\n",
       "      <td>False</td>\n",
       "    </tr>\n",
       "  </tbody>\n",
       "</table>\n",
       "</div>"
      ],
      "text/plain": [
       "                                       InstitutionName  UnitID  ParentID  \\\n",
       "232                             Western State Hospital  196972         0   \n",
       "233                      Western Washington University  149170         0   \n",
       "234                          Whatcom Community College  149189         0   \n",
       "235                                    Whitman College  149198         0   \n",
       "236                               Whitworth University  149204         0   \n",
       "237                                Wu Hsing Tao School  185837         0   \n",
       "238                 Yakima Beauty School; Beauty Works  191296         0   \n",
       "239                    Yakima Valley Community College  149213         0   \n",
       "240  Yakima Valley Farm Workers Clinic - Northwest ...  209445         0   \n",
       "\n",
       "       OPEID InstitutionType                               Address  \\\n",
       "232      NaN            Site         9601 Steilacoom Boulevard_ SW   \n",
       "233   380200     Institution                           516 High St   \n",
       "234  1036400     Institution                      237 W Kellogg Rd   \n",
       "235   380300     Institution                         345 Boyer Ave   \n",
       "236   380400     Institution                    300 W Hawthorne Rd   \n",
       "237      NaN     Institution  4000 ME 41st Street_ Bldg. D_ Ste. 1   \n",
       "238  3953300     Institution                401 North First Street   \n",
       "239   380500     Institution      Sixteenth and Nob Hill Boulevard   \n",
       "240      NaN            Site                   518 W. First Avenue   \n",
       "\n",
       "            City State  HasHistory  \n",
       "232       Tacoma    WA       False  \n",
       "233   Bellingham    WA       False  \n",
       "234   Bellingham    WA       False  \n",
       "235  Walla Walla    WA       False  \n",
       "236      Spokane    WA        True  \n",
       "237      Seattle    WA       False  \n",
       "238       Yakima    WA        True  \n",
       "239       Yakima    WA       False  \n",
       "240    Toppenish    WA       False  "
      ]
     },
     "execution_count": 64,
     "metadata": {},
     "output_type": "execute_result"
    }
   ],
   "source": [
    "df_coll[-9:]"
   ]
  },
  {
   "cell_type": "code",
   "execution_count": 84,
   "metadata": {},
   "outputs": [
    {
     "data": {
      "text/html": [
       "<div>\n",
       "<style scoped>\n",
       "    .dataframe tbody tr th:only-of-type {\n",
       "        vertical-align: middle;\n",
       "    }\n",
       "\n",
       "    .dataframe tbody tr th {\n",
       "        vertical-align: top;\n",
       "    }\n",
       "\n",
       "    .dataframe thead th {\n",
       "        text-align: right;\n",
       "    }\n",
       "</style>\n",
       "<table border=\"1\" class=\"dataframe\">\n",
       "  <thead>\n",
       "    <tr style=\"text-align: right;\">\n",
       "      <th></th>\n",
       "      <th>InstitutionName</th>\n",
       "      <th>UnitID</th>\n",
       "      <th>ParentID</th>\n",
       "      <th>OPEID</th>\n",
       "      <th>InstitutionType</th>\n",
       "      <th>Address</th>\n",
       "      <th>City</th>\n",
       "      <th>State</th>\n",
       "      <th>HasHistory</th>\n",
       "    </tr>\n",
       "  </thead>\n",
       "  <tbody>\n",
       "    <tr>\n",
       "      <td>0</td>\n",
       "      <td>Academy of Cosmetology_ L.L.C.</td>\n",
       "      <td>214670</td>\n",
       "      <td>0</td>\n",
       "      <td>4172900</td>\n",
       "      <td>Institution</td>\n",
       "      <td>1368 Jadwin Avenue</td>\n",
       "      <td>Richland</td>\n",
       "      <td>WA</td>\n",
       "      <td>True</td>\n",
       "    </tr>\n",
       "    <tr>\n",
       "      <td>1</td>\n",
       "      <td>Academy of Interactive Entertainment</td>\n",
       "      <td>229540</td>\n",
       "      <td>0</td>\n",
       "      <td>4223600</td>\n",
       "      <td>Institution</td>\n",
       "      <td>305 Harrison Street</td>\n",
       "      <td>Seattle</td>\n",
       "      <td>WA</td>\n",
       "      <td>False</td>\n",
       "    </tr>\n",
       "    <tr>\n",
       "      <td>2</td>\n",
       "      <td>Age of Montessori</td>\n",
       "      <td>241058</td>\n",
       "      <td>0</td>\n",
       "      <td>NaN</td>\n",
       "      <td>Institution</td>\n",
       "      <td>301 Evergreen Drive</td>\n",
       "      <td>Bozeman</td>\n",
       "      <td>MT</td>\n",
       "      <td>True</td>\n",
       "    </tr>\n",
       "    <tr>\n",
       "      <td>3</td>\n",
       "      <td>Airstreams Renewables_ Inc.</td>\n",
       "      <td>227368</td>\n",
       "      <td>0</td>\n",
       "      <td>NaN</td>\n",
       "      <td>Institution</td>\n",
       "      <td>410 West J Street_ Suite B</td>\n",
       "      <td>Tehachapi</td>\n",
       "      <td>CA</td>\n",
       "      <td>True</td>\n",
       "    </tr>\n",
       "    <tr>\n",
       "      <td>4</td>\n",
       "      <td>Alpine College</td>\n",
       "      <td>188562</td>\n",
       "      <td>0</td>\n",
       "      <td>4043400</td>\n",
       "      <td>Institution</td>\n",
       "      <td>10020 E. Knox Ave. Suite 500</td>\n",
       "      <td>Spokane Valley</td>\n",
       "      <td>WA</td>\n",
       "      <td>True</td>\n",
       "    </tr>\n",
       "    <tr>\n",
       "      <td>...</td>\n",
       "      <td>...</td>\n",
       "      <td>...</td>\n",
       "      <td>...</td>\n",
       "      <td>...</td>\n",
       "      <td>...</td>\n",
       "      <td>...</td>\n",
       "      <td>...</td>\n",
       "      <td>...</td>\n",
       "      <td>...</td>\n",
       "    </tr>\n",
       "    <tr>\n",
       "      <td>236</td>\n",
       "      <td>Whitworth University</td>\n",
       "      <td>149204</td>\n",
       "      <td>0</td>\n",
       "      <td>380400</td>\n",
       "      <td>Institution</td>\n",
       "      <td>300 W Hawthorne Rd</td>\n",
       "      <td>Spokane</td>\n",
       "      <td>WA</td>\n",
       "      <td>True</td>\n",
       "    </tr>\n",
       "    <tr>\n",
       "      <td>237</td>\n",
       "      <td>Wu Hsing Tao School</td>\n",
       "      <td>185837</td>\n",
       "      <td>0</td>\n",
       "      <td>NaN</td>\n",
       "      <td>Institution</td>\n",
       "      <td>4000 ME 41st Street_ Bldg. D_ Ste. 1</td>\n",
       "      <td>Seattle</td>\n",
       "      <td>WA</td>\n",
       "      <td>False</td>\n",
       "    </tr>\n",
       "    <tr>\n",
       "      <td>238</td>\n",
       "      <td>Yakima Beauty School; Beauty Works</td>\n",
       "      <td>191296</td>\n",
       "      <td>0</td>\n",
       "      <td>3953300</td>\n",
       "      <td>Institution</td>\n",
       "      <td>401 North First Street</td>\n",
       "      <td>Yakima</td>\n",
       "      <td>WA</td>\n",
       "      <td>True</td>\n",
       "    </tr>\n",
       "    <tr>\n",
       "      <td>239</td>\n",
       "      <td>Yakima Valley Community College</td>\n",
       "      <td>149213</td>\n",
       "      <td>0</td>\n",
       "      <td>380500</td>\n",
       "      <td>Institution</td>\n",
       "      <td>Sixteenth and Nob Hill Boulevard</td>\n",
       "      <td>Yakima</td>\n",
       "      <td>WA</td>\n",
       "      <td>False</td>\n",
       "    </tr>\n",
       "    <tr>\n",
       "      <td>240</td>\n",
       "      <td>Yakima Valley Farm Workers Clinic - Northwest ...</td>\n",
       "      <td>209445</td>\n",
       "      <td>0</td>\n",
       "      <td>NaN</td>\n",
       "      <td>Site</td>\n",
       "      <td>518 W. First Avenue</td>\n",
       "      <td>Toppenish</td>\n",
       "      <td>WA</td>\n",
       "      <td>False</td>\n",
       "    </tr>\n",
       "  </tbody>\n",
       "</table>\n",
       "<p>241 rows × 9 columns</p>\n",
       "</div>"
      ],
      "text/plain": [
       "                                       InstitutionName  UnitID  ParentID  \\\n",
       "0                       Academy of Cosmetology_ L.L.C.  214670         0   \n",
       "1                 Academy of Interactive Entertainment  229540         0   \n",
       "2                                    Age of Montessori  241058         0   \n",
       "3                          Airstreams Renewables_ Inc.  227368         0   \n",
       "4                                       Alpine College  188562         0   \n",
       "..                                                 ...     ...       ...   \n",
       "236                               Whitworth University  149204         0   \n",
       "237                                Wu Hsing Tao School  185837         0   \n",
       "238                 Yakima Beauty School; Beauty Works  191296         0   \n",
       "239                    Yakima Valley Community College  149213         0   \n",
       "240  Yakima Valley Farm Workers Clinic - Northwest ...  209445         0   \n",
       "\n",
       "       OPEID InstitutionType                               Address  \\\n",
       "0    4172900     Institution                    1368 Jadwin Avenue   \n",
       "1    4223600     Institution                   305 Harrison Street   \n",
       "2        NaN     Institution                   301 Evergreen Drive   \n",
       "3        NaN     Institution            410 West J Street_ Suite B   \n",
       "4    4043400     Institution          10020 E. Knox Ave. Suite 500   \n",
       "..       ...             ...                                   ...   \n",
       "236   380400     Institution                    300 W Hawthorne Rd   \n",
       "237      NaN     Institution  4000 ME 41st Street_ Bldg. D_ Ste. 1   \n",
       "238  3953300     Institution                401 North First Street   \n",
       "239   380500     Institution      Sixteenth and Nob Hill Boulevard   \n",
       "240      NaN            Site                   518 W. First Avenue   \n",
       "\n",
       "               City State  HasHistory  \n",
       "0          Richland    WA        True  \n",
       "1           Seattle    WA       False  \n",
       "2           Bozeman    MT        True  \n",
       "3         Tehachapi    CA        True  \n",
       "4    Spokane Valley    WA        True  \n",
       "..              ...   ...         ...  \n",
       "236         Spokane    WA        True  \n",
       "237         Seattle    WA       False  \n",
       "238          Yakima    WA        True  \n",
       "239          Yakima    WA       False  \n",
       "240       Toppenish    WA       False  \n",
       "\n",
       "[241 rows x 9 columns]"
      ]
     },
     "execution_count": 84,
     "metadata": {},
     "output_type": "execute_result"
    }
   ],
   "source": [
    "df_coll.explode('OPEID')"
   ]
  },
  {
   "cell_type": "code",
   "execution_count": 3,
   "metadata": {
    "ExecuteTime": {
     "end_time": "2019-12-22T15:45:09.936929Z",
     "start_time": "2019-12-22T15:45:09.931936Z"
    }
   },
   "outputs": [
    {
     "data": {
      "text/plain": [
       "3.5714285714285716"
      ]
     },
     "execution_count": 3,
     "metadata": {},
     "output_type": "execute_result"
    }
   ],
   "source": [
    "#4\n",
    "def avg_gpa(*reportcards):\n",
    "    n=len(reportcards)\n",
    "    total=0.0\n",
    "    for sub in reportcards:\n",
    "        total+=sub\n",
    "    return total/n if n>0 else 1\n",
    "\n",
    "avg_gpa(4,4,4,3,2,3,5.0)\n",
    "\n"
   ]
  },
  {
   "cell_type": "code",
   "execution_count": 4,
   "metadata": {
    "ExecuteTime": {
     "end_time": "2019-12-22T15:50:01.130980Z",
     "start_time": "2019-12-22T15:50:01.126978Z"
    }
   },
   "outputs": [
    {
     "name": "stdout",
     "output_type": "stream",
     "text": [
      "school: Angus avg gpa: 8\n",
      "\n",
      "school: Zilin avg gpa: 9\n",
      "\n",
      "school: Allen avg gpa: 6\n",
      "\n",
      "school: Wilson avg gpa: 44\n",
      "\n"
     ]
    }
   ],
   "source": [
    "#5\n",
    "def school_pga(**data): \n",
    "    for key, value in data.items():  \n",
    "        print(\"school: {} avg gpa: {}\\n\".format(key,value))\n",
    "school_pga(Angus=4.0, Zilin=4.0,Allen=4.0,Wilson=4.0,noname=3.9)\n"
   ]
  },
  {
   "cell_type": "markdown",
   "metadata": {},
   "source": [
    "# Object Oriented Programming: Define Classes"
   ]
  },
  {
   "cell_type": "markdown",
   "metadata": {},
   "source": []
  },
  {
   "cell_type": "code",
   "execution_count": 78,
   "metadata": {
    "ExecuteTime": {
     "end_time": "2019-12-23T17:49:52.020337Z",
     "start_time": "2019-12-23T17:49:52.010342Z"
    }
   },
   "outputs": [
    {
     "name": "stdout",
     "output_type": "stream",
     "text": [
      "College: Stanford avg gpa requirement is 3.0\n",
      "College: MIT avg gpa requirement is 4.16\n"
     ]
    },
    {
     "data": {
      "text/plain": [
       "4.16"
      ]
     },
     "execution_count": 78,
     "metadata": {},
     "output_type": "execute_result"
    }
   ],
   "source": [
    "class Describe_College(object):    \n",
    "    def __init__(self,col_name, avg_gpa, avg_act, avg_sat, addr): \n",
    "        self.col_name=col_name\n",
    "        self.avg_gpa=avg_gpa\n",
    "        self.avg_act=avg_act\n",
    "        self.avg_sat=avg_sat\n",
    "        self.addr=addr \n",
    "    def basic_info(self):\n",
    "        print(\"College: {} avg gpa requirement is {}\".format(self.col_name,self.avg_gpa))\n",
    "\n",
    "    def get_avggpa(self):\n",
    "        return self.avg_gpa\n",
    "\n",
    "c=Describe_College('Stanford', 3.0, 33.0, 1500, 'CA')\n",
    "c.basic_info()\n",
    "c.get_avggpa()\n",
    "d=Describe_College('MIT',4.16,34,1500,'MA')\n",
    "d.basic_info()\n",
    "d.get_avggpa()"
   ]
  },
  {
   "cell_type": "code",
   "execution_count": 12,
   "metadata": {},
   "outputs": [
    {
     "ename": "UnboundLocalError",
     "evalue": "local variable 'url' referenced before assignment",
     "output_type": "error",
     "traceback": [
      "\u001b[1;31m---------------------------------------------------------------------------\u001b[0m",
      "\u001b[1;31mUnboundLocalError\u001b[0m                         Traceback (most recent call last)",
      "\u001b[1;32m<ipython-input-12-838ffc0aad12>\u001b[0m in \u001b[0;36m<module>\u001b[1;34m\u001b[0m\n\u001b[0;32m      2\u001b[0m \u001b[0mli\u001b[0m\u001b[1;33m=\u001b[0m\u001b[0mm\u001b[0m\u001b[1;33m.\u001b[0m\u001b[0mGetAllUrls\u001b[0m\u001b[1;33m(\u001b[0m\u001b[1;34m'http://mit.edu'\u001b[0m\u001b[1;33m)\u001b[0m\u001b[1;33m\u001b[0m\u001b[1;33m\u001b[0m\u001b[0m\n\u001b[0;32m      3\u001b[0m \u001b[1;32mfor\u001b[0m \u001b[0mi\u001b[0m \u001b[1;32min\u001b[0m \u001b[0mli\u001b[0m\u001b[1;33m:\u001b[0m\u001b[1;33m\u001b[0m\u001b[1;33m\u001b[0m\u001b[0m\n\u001b[1;32m----> 4\u001b[1;33m     \u001b[0mm\u001b[0m\u001b[1;33m.\u001b[0m\u001b[0mSave_OnePage\u001b[0m\u001b[1;33m(\u001b[0m\u001b[0mi\u001b[0m\u001b[1;33m)\u001b[0m\u001b[1;33m\u001b[0m\u001b[1;33m\u001b[0m\u001b[0m\n\u001b[0m",
      "\u001b[1;32m<ipython-input-7-3d9fc98c2662>\u001b[0m in \u001b[0;36mSave_OnePage\u001b[1;34m(self, format)\u001b[0m\n\u001b[0;32m     83\u001b[0m     \"\"\"\n\u001b[0;32m     84\u001b[0m     \u001b[1;32mdef\u001b[0m \u001b[0mSave_OnePage\u001b[0m\u001b[1;33m(\u001b[0m\u001b[0mself\u001b[0m\u001b[1;33m,\u001b[0m \u001b[0mformat\u001b[0m\u001b[1;33m=\u001b[0m\u001b[1;34m'csv'\u001b[0m\u001b[1;33m)\u001b[0m\u001b[1;33m:\u001b[0m\u001b[1;33m\u001b[0m\u001b[1;33m\u001b[0m\u001b[0m\n\u001b[1;32m---> 85\u001b[1;33m         \u001b[0murl\u001b[0m\u001b[1;33m=\u001b[0m\u001b[0murl\u001b[0m\u001b[1;33m.\u001b[0m\u001b[0mstrip\u001b[0m\u001b[1;33m(\u001b[0m\u001b[1;33m)\u001b[0m\u001b[1;33m\u001b[0m\u001b[1;33m\u001b[0m\u001b[0m\n\u001b[0m\u001b[0;32m     86\u001b[0m         \u001b[0mcontent\u001b[0m\u001b[1;33m=\u001b[0m\u001b[0mread_oneurl\u001b[0m\u001b[1;33m(\u001b[0m\u001b[0murl\u001b[0m\u001b[1;33m)\u001b[0m \u001b[1;31m#in format of (a,a,a,a)\u001b[0m\u001b[1;33m\u001b[0m\u001b[1;33m\u001b[0m\u001b[0m\n\u001b[0;32m     87\u001b[0m \u001b[1;33m\u001b[0m\u001b[0m\n",
      "\u001b[1;31mUnboundLocalError\u001b[0m: local variable 'url' referenced before assignment"
     ]
    }
   ],
   "source": []
  },
  {
   "cell_type": "code",
   "execution_count": 11,
   "metadata": {},
   "outputs": [
    {
     "data": {
      "text/plain": [
       "{'http://mit.edu',\n",
       " 'http://mit.edu/',\n",
       " 'http://mit.edu/ http://global.mit.edu/',\n",
       " 'http://mit.edu/#main',\n",
       " 'http://mit.edu/#mission',\n",
       " 'http://mit.edu/about',\n",
       " 'http://mit.edu/about/#mission',\n",
       " 'http://mit.edu/accessibility',\n",
       " 'http://mit.edu/accessibility/',\n",
       " 'http://mit.edu/admissions',\n",
       " 'http://mit.edu/admissions-aid',\n",
       " 'http://mit.edu/alumni',\n",
       " 'http://mit.edu/building-a-better-world',\n",
       " 'http://mit.edu/building-a-better-world/',\n",
       " 'http://mit.edu/campus-life',\n",
       " 'http://mit.edu/contact',\n",
       " 'http://mit.edu/education',\n",
       " 'http://mit.edu/education#teaching',\n",
       " 'http://mit.edu/education/#schools-and-departments',\n",
       " 'http://mit.edu/education/schools-and-departments',\n",
       " 'http://mit.edu/education/schools-and-departments/',\n",
       " 'http://mit.edu/feedback',\n",
       " 'http://mit.edu/innovation',\n",
       " 'http://mit.edu/mailto:aacomments@mit.edu/',\n",
       " 'http://mit.edu/mailto:admissions@mit.edu/',\n",
       " 'http://mit.edu/mailto:campus-map@mit.edu/',\n",
       " 'http://mit.edu/mailto:dataprotection@mit.edu/',\n",
       " 'http://mit.edu/mailto:dataprotection@mit.edu/.',\n",
       " 'http://mit.edu/privacy',\n",
       " 'http://mit.edu/research',\n",
       " 'http://mit.edu/research/centers-labs-programs/',\n",
       " 'http://mit.edu/research/research-alliances/',\n",
       " 'http://mit.edu/search',\n",
       " 'http://mit.edu/tel:617-253-1000',\n",
       " 'http://mit.edu/visitmit'}"
      ]
     },
     "execution_count": 11,
     "metadata": {},
     "output_type": "execute_result"
    }
   ],
   "source": []
  },
  {
   "cell_type": "code",
   "execution_count": 15,
   "metadata": {
    "ExecuteTime": {
     "end_time": "2019-12-23T17:35:19.331618Z",
     "start_time": "2019-12-23T17:35:19.327659Z"
    }
   },
   "outputs": [
    {
     "ename": "NameError",
     "evalue": "name 'get_pagetext' is not defined",
     "output_type": "error",
     "traceback": [
      "\u001b[1;31m---------------------------------------------------------------------------\u001b[0m",
      "\u001b[1;31mNameError\u001b[0m                                 Traceback (most recent call last)",
      "\u001b[1;32m<ipython-input-15-5c814e65e75d>\u001b[0m in \u001b[0;36m<module>\u001b[1;34m\u001b[0m\n\u001b[0;32m    112\u001b[0m \u001b[0mli\u001b[0m\u001b[1;33m=\u001b[0m\u001b[0mm\u001b[0m\u001b[1;33m.\u001b[0m\u001b[0mGetAllUrls\u001b[0m\u001b[1;33m(\u001b[0m\u001b[1;34m'http://mit.edu'\u001b[0m\u001b[1;33m)\u001b[0m\u001b[1;33m\u001b[0m\u001b[1;33m\u001b[0m\u001b[0m\n\u001b[0;32m    113\u001b[0m \u001b[1;32mfor\u001b[0m \u001b[0mi\u001b[0m \u001b[1;32min\u001b[0m \u001b[0mli\u001b[0m\u001b[1;33m:\u001b[0m\u001b[1;33m\u001b[0m\u001b[1;33m\u001b[0m\u001b[0m\n\u001b[1;32m--> 114\u001b[1;33m     \u001b[0mm\u001b[0m\u001b[1;33m.\u001b[0m\u001b[0mSave_OnePage\u001b[0m\u001b[1;33m(\u001b[0m\u001b[0mi\u001b[0m\u001b[1;33m)\u001b[0m\u001b[1;33m\u001b[0m\u001b[1;33m\u001b[0m\u001b[0m\n\u001b[0m",
      "\u001b[1;32m<ipython-input-15-5c814e65e75d>\u001b[0m in \u001b[0;36mSave_OnePage\u001b[1;34m(self, url, format, folder, filename)\u001b[0m\n\u001b[0;32m     84\u001b[0m     \u001b[1;32mdef\u001b[0m \u001b[0mSave_OnePage\u001b[0m\u001b[1;33m(\u001b[0m\u001b[0mself\u001b[0m\u001b[1;33m,\u001b[0m \u001b[0murl\u001b[0m\u001b[1;33m,\u001b[0m\u001b[0mformat\u001b[0m\u001b[1;33m=\u001b[0m\u001b[1;34m'csv'\u001b[0m\u001b[1;33m,\u001b[0m\u001b[0mfolder\u001b[0m\u001b[1;33m=\u001b[0m\u001b[1;32mNone\u001b[0m\u001b[1;33m,\u001b[0m\u001b[0mfilename\u001b[0m\u001b[1;33m=\u001b[0m\u001b[1;32mNone\u001b[0m\u001b[1;33m)\u001b[0m\u001b[1;33m:\u001b[0m\u001b[1;33m\u001b[0m\u001b[1;33m\u001b[0m\u001b[0m\n\u001b[0;32m     85\u001b[0m         \u001b[0murl\u001b[0m\u001b[1;33m=\u001b[0m\u001b[0murl\u001b[0m\u001b[1;33m.\u001b[0m\u001b[0mstrip\u001b[0m\u001b[1;33m(\u001b[0m\u001b[1;33m)\u001b[0m\u001b[1;33m\u001b[0m\u001b[1;33m\u001b[0m\u001b[0m\n\u001b[1;32m---> 86\u001b[1;33m         \u001b[0mcontent\u001b[0m\u001b[1;33m=\u001b[0m\u001b[0mm\u001b[0m\u001b[1;33m.\u001b[0m\u001b[0mRead_OneUrl\u001b[0m\u001b[1;33m(\u001b[0m\u001b[0murl\u001b[0m\u001b[1;33m)\u001b[0m \u001b[1;31m#in format of (a,a,a,a)\u001b[0m\u001b[1;33m\u001b[0m\u001b[1;33m\u001b[0m\u001b[0m\n\u001b[0m\u001b[0;32m     87\u001b[0m \u001b[1;33m\u001b[0m\u001b[0m\n\u001b[0;32m     88\u001b[0m         \u001b[1;32mif\u001b[0m \u001b[0mfolder\u001b[0m\u001b[1;33m==\u001b[0m\u001b[1;32mNone\u001b[0m\u001b[1;33m:\u001b[0m\u001b[1;33m\u001b[0m\u001b[1;33m\u001b[0m\u001b[0m\n",
      "\u001b[1;32m<ipython-input-15-5c814e65e75d>\u001b[0m in \u001b[0;36mRead_OneUrl\u001b[1;34m(self, oneUrl)\u001b[0m\n\u001b[0;32m     74\u001b[0m         \u001b[0mresponse\u001b[0m\u001b[1;33m=\u001b[0m\u001b[0mrequests\u001b[0m\u001b[1;33m.\u001b[0m\u001b[0mget\u001b[0m\u001b[1;33m(\u001b[0m\u001b[0moneUrl\u001b[0m\u001b[1;33m)\u001b[0m\u001b[1;33m\u001b[0m\u001b[1;33m\u001b[0m\u001b[0m\n\u001b[0;32m     75\u001b[0m         \u001b[1;32mif\u001b[0m \u001b[0mresponse\u001b[0m\u001b[1;33m.\u001b[0m\u001b[0mstatus_code\u001b[0m\u001b[1;33m==\u001b[0m\u001b[1;36m200\u001b[0m\u001b[1;33m:\u001b[0m\u001b[1;33m\u001b[0m\u001b[1;33m\u001b[0m\u001b[0m\n\u001b[1;32m---> 76\u001b[1;33m             \u001b[1;32mreturn\u001b[0m \u001b[0mget_pagetext\u001b[0m\u001b[1;33m(\u001b[0m\u001b[0mresponse\u001b[0m\u001b[1;33m)\u001b[0m\u001b[1;33m\u001b[0m\u001b[1;33m\u001b[0m\u001b[0m\n\u001b[0m\u001b[0;32m     77\u001b[0m         \u001b[1;32melse\u001b[0m\u001b[1;33m:\u001b[0m\u001b[1;33m\u001b[0m\u001b[1;33m\u001b[0m\u001b[0m\n\u001b[0;32m     78\u001b[0m             \u001b[1;32mreturn\u001b[0m \u001b[1;33m[\u001b[0m\u001b[1;33m[\u001b[0m\u001b[1;32mNone\u001b[0m\u001b[1;33m,\u001b[0m \u001b[1;32mNone\u001b[0m\u001b[1;33m,\u001b[0m \u001b[1;32mNone\u001b[0m\u001b[1;33m,\u001b[0m \u001b[1;32mNone\u001b[0m\u001b[1;33m]\u001b[0m\u001b[1;33m]\u001b[0m\u001b[1;33m\u001b[0m\u001b[1;33m\u001b[0m\u001b[0m\n",
      "\u001b[1;31mNameError\u001b[0m: name 'get_pagetext' is not defined"
     ]
    }
   ],
   "source": [
    "class CollegeCrawl(object):\n",
    "    gap_Insecond=5\n",
    "    max_Pages=150\n",
    "    allUrls=[]\n",
    "    visitedUrls=[]\n",
    "    rejectedUrls=[]\n",
    "    n_allUrls=0\n",
    "    n_sitedUrls=0\n",
    "    n_rejectedUrls=0\n",
    "    \n",
    "    \"\"\"\n",
    "        collegename: name\n",
    "        rooturl: www.university.edu\n",
    "        prioritykeywords: ['apply','adimission'...] etc. if None then everth page \n",
    "        respectrobottxt: True\n",
    "    \"\"\"\n",
    "    def __init__(self,_collegename, _rooturl, _prioritykeywords, _respectrobottxt=True):\n",
    "        self.college=_collegename\n",
    "        self.rootUrl=_rooturl\n",
    "        self.priorityKeywords=_prioritykeywords\n",
    "        self.respectRobottext=_respectrobottxt\n",
    "\n",
    "    \"\"\"\n",
    "        get all urls starting from rootUrl\n",
    "    \"\"\"\n",
    "    def GetAllUrls(self):\n",
    "        pass\n",
    "    \n",
    "    \"\"\"\n",
    "        read one page\n",
    "    \"\"\"\n",
    "    def Read_OneUrl(self, oneUrl):\n",
    "        pass\n",
    "    \n",
    "        \n",
    "    \"\"\"\n",
    "        Save One Page\n",
    "    \"\"\"\n",
    "    def Save_OnePage(self, format='csv'):\n",
    "        pass\n",
    "    \n",
    "    \"\"\"\n",
    "        Save summaries\n",
    "    \"\"\"\n",
    "    def Save_Summaries(self):\n",
    "        pass\n",
    "     "
   ]
  },
  {
   "cell_type": "code",
   "execution_count": 22,
   "metadata": {
    "ExecuteTime": {
     "end_time": "2019-12-23T17:50:05.327563Z",
     "start_time": "2019-12-23T17:50:05.322599Z"
    }
   },
   "outputs": [
    {
     "data": {
      "text/plain": [
       "True"
      ]
     },
     "execution_count": 22,
     "metadata": {},
     "output_type": "execute_result"
    }
   ],
   "source": [
    "#isinstance(c,Describe_College)\n",
    "#id()"
   ]
  },
  {
   "cell_type": "code",
   "execution_count": 1,
   "metadata": {},
   "outputs": [
    {
     "data": {
      "text/plain": [
       "('ucla', 'mit', 'stanford')"
      ]
     },
     "execution_count": 1,
     "metadata": {},
     "output_type": "execute_result"
    }
   ],
   "source": [
    "tup = ('ucla','mit','stanford')\n",
    "tup"
   ]
  },
  {
   "cell_type": "code",
   "execution_count": 5,
   "metadata": {},
   "outputs": [
    {
     "data": {
      "text/plain": [
       "tuple"
      ]
     },
     "execution_count": 5,
     "metadata": {},
     "output_type": "execute_result"
    }
   ],
   "source": [
    "type(tup)"
   ]
  },
  {
   "cell_type": "code",
   "execution_count": 15,
   "metadata": {},
   "outputs": [
    {
     "data": {
      "text/plain": [
       "2649901689968"
      ]
     },
     "execution_count": 15,
     "metadata": {},
     "output_type": "execute_result"
    }
   ],
   "source": [
    "name='a'\n",
    "id(name)"
   ]
  },
  {
   "cell_type": "code",
   "execution_count": 18,
   "metadata": {},
   "outputs": [
    {
     "data": {
      "text/plain": [
       "2649945267952"
      ]
     },
     "execution_count": 18,
     "metadata": {},
     "output_type": "execute_result"
    }
   ],
   "source": [
    "name='wgerha'\n",
    "id(name)"
   ]
  },
  {
   "cell_type": "code",
   "execution_count": 21,
   "metadata": {},
   "outputs": [],
   "source": [
    "li=[1,2,3,4]"
   ]
  },
  {
   "cell_type": "code",
   "execution_count": 22,
   "metadata": {},
   "outputs": [
    {
     "data": {
      "text/plain": [
       "2649944667848"
      ]
     },
     "execution_count": 22,
     "metadata": {},
     "output_type": "execute_result"
    }
   ],
   "source": [
    "id(li)"
   ]
  },
  {
   "cell_type": "code",
   "execution_count": 23,
   "metadata": {},
   "outputs": [],
   "source": [
    "li.append(4)"
   ]
  },
  {
   "cell_type": "code",
   "execution_count": 24,
   "metadata": {},
   "outputs": [
    {
     "data": {
      "text/plain": [
       "2649944667848"
      ]
     },
     "execution_count": 24,
     "metadata": {},
     "output_type": "execute_result"
    }
   ],
   "source": [
    "id(li)"
   ]
  },
  {
   "cell_type": "code",
   "execution_count": 26,
   "metadata": {},
   "outputs": [
    {
     "name": "stdout",
     "output_type": "stream",
     "text": [
      "3.9800\n"
     ]
    }
   ],
   "source": [
    "def avg_gpa(**reportcards):\n",
    "    n=len(reportcards)\n",
    "    total=0.0\n",
    "    for key,value in reportcards.items():\n",
    "        total+=value\n",
    "    return total/n if n>0 else 1\n",
    "print('%.4f' % avg_gpa(Angus=4.0, Zilin=4.0, Allen=4.0, Wilson=4.0,noname=3.9))"
   ]
  },
  {
   "cell_type": "code",
   "execution_count": null,
   "metadata": {
    "scrolled": true
   },
   "outputs": [],
   "source": []
  },
  {
   "cell_type": "code",
   "execution_count": 48,
   "metadata": {},
   "outputs": [
    {
     "name": "stdout",
     "output_type": "stream",
     "text": [
      "3.9800\n"
     ]
    }
   ],
   "source": [
    "print('{0:.4f}'.format(avg_gpa(Angus=4.0, Zilin=4.0, Allen=4.0, Wilson=4.0,noname=3.9)))"
   ]
  },
  {
   "cell_type": "code",
   "execution_count": 68,
   "metadata": {},
   "outputs": [
    {
     "ename": "KeyError",
     "evalue": "1",
     "output_type": "error",
     "traceback": [
      "\u001b[1;31m---------------------------------------------------------------------------\u001b[0m",
      "\u001b[1;31mKeyError\u001b[0m                                  Traceback (most recent call last)",
      "\u001b[1;32m~\\Anaconda3\\lib\\site-packages\\pandas\\core\\indexes\\base.py\u001b[0m in \u001b[0;36mget_loc\u001b[1;34m(self, key, method, tolerance)\u001b[0m\n\u001b[0;32m   2896\u001b[0m             \u001b[1;32mtry\u001b[0m\u001b[1;33m:\u001b[0m\u001b[1;33m\u001b[0m\u001b[1;33m\u001b[0m\u001b[0m\n\u001b[1;32m-> 2897\u001b[1;33m                 \u001b[1;32mreturn\u001b[0m \u001b[0mself\u001b[0m\u001b[1;33m.\u001b[0m\u001b[0m_engine\u001b[0m\u001b[1;33m.\u001b[0m\u001b[0mget_loc\u001b[0m\u001b[1;33m(\u001b[0m\u001b[0mkey\u001b[0m\u001b[1;33m)\u001b[0m\u001b[1;33m\u001b[0m\u001b[1;33m\u001b[0m\u001b[0m\n\u001b[0m\u001b[0;32m   2898\u001b[0m             \u001b[1;32mexcept\u001b[0m \u001b[0mKeyError\u001b[0m\u001b[1;33m:\u001b[0m\u001b[1;33m\u001b[0m\u001b[1;33m\u001b[0m\u001b[0m\n",
      "\u001b[1;32mpandas\\_libs\\index.pyx\u001b[0m in \u001b[0;36mpandas._libs.index.IndexEngine.get_loc\u001b[1;34m()\u001b[0m\n",
      "\u001b[1;32mpandas\\_libs\\index.pyx\u001b[0m in \u001b[0;36mpandas._libs.index.IndexEngine.get_loc\u001b[1;34m()\u001b[0m\n",
      "\u001b[1;32mpandas\\_libs\\hashtable_class_helper.pxi\u001b[0m in \u001b[0;36mpandas._libs.hashtable.PyObjectHashTable.get_item\u001b[1;34m()\u001b[0m\n",
      "\u001b[1;32mpandas\\_libs\\hashtable_class_helper.pxi\u001b[0m in \u001b[0;36mpandas._libs.hashtable.PyObjectHashTable.get_item\u001b[1;34m()\u001b[0m\n",
      "\u001b[1;31mKeyError\u001b[0m: 1",
      "\nDuring handling of the above exception, another exception occurred:\n",
      "\u001b[1;31mKeyError\u001b[0m                                  Traceback (most recent call last)",
      "\u001b[1;32m<ipython-input-68-9567cd9bd1fc>\u001b[0m in \u001b[0;36m<module>\u001b[1;34m\u001b[0m\n\u001b[1;32m----> 1\u001b[1;33m \u001b[0mdf_coll\u001b[0m\u001b[1;33m.\u001b[0m\u001b[0mexplode\u001b[0m\u001b[1;33m(\u001b[0m\u001b[1;36m1\u001b[0m\u001b[1;33m)\u001b[0m\u001b[1;33m\u001b[0m\u001b[1;33m\u001b[0m\u001b[0m\n\u001b[0m",
      "\u001b[1;32m~\\Anaconda3\\lib\\site-packages\\pandas\\core\\frame.py\u001b[0m in \u001b[0;36mexplode\u001b[1;34m(self, column)\u001b[0m\n\u001b[0;32m   6307\u001b[0m             \u001b[1;32mraise\u001b[0m \u001b[0mValueError\u001b[0m\u001b[1;33m(\u001b[0m\u001b[1;34m\"columns must be unique\"\u001b[0m\u001b[1;33m)\u001b[0m\u001b[1;33m\u001b[0m\u001b[1;33m\u001b[0m\u001b[0m\n\u001b[0;32m   6308\u001b[0m \u001b[1;33m\u001b[0m\u001b[0m\n\u001b[1;32m-> 6309\u001b[1;33m         \u001b[0mresult\u001b[0m \u001b[1;33m=\u001b[0m \u001b[0mself\u001b[0m\u001b[1;33m[\u001b[0m\u001b[0mcolumn\u001b[0m\u001b[1;33m]\u001b[0m\u001b[1;33m.\u001b[0m\u001b[0mexplode\u001b[0m\u001b[1;33m(\u001b[0m\u001b[1;33m)\u001b[0m\u001b[1;33m\u001b[0m\u001b[1;33m\u001b[0m\u001b[0m\n\u001b[0m\u001b[0;32m   6310\u001b[0m         return (\n\u001b[0;32m   6311\u001b[0m             \u001b[0mself\u001b[0m\u001b[1;33m.\u001b[0m\u001b[0mdrop\u001b[0m\u001b[1;33m(\u001b[0m\u001b[1;33m[\u001b[0m\u001b[0mcolumn\u001b[0m\u001b[1;33m]\u001b[0m\u001b[1;33m,\u001b[0m \u001b[0maxis\u001b[0m\u001b[1;33m=\u001b[0m\u001b[1;36m1\u001b[0m\u001b[1;33m)\u001b[0m\u001b[1;33m\u001b[0m\u001b[1;33m\u001b[0m\u001b[0m\n",
      "\u001b[1;32m~\\Anaconda3\\lib\\site-packages\\pandas\\core\\frame.py\u001b[0m in \u001b[0;36m__getitem__\u001b[1;34m(self, key)\u001b[0m\n\u001b[0;32m   2978\u001b[0m             \u001b[1;32mif\u001b[0m \u001b[0mself\u001b[0m\u001b[1;33m.\u001b[0m\u001b[0mcolumns\u001b[0m\u001b[1;33m.\u001b[0m\u001b[0mnlevels\u001b[0m \u001b[1;33m>\u001b[0m \u001b[1;36m1\u001b[0m\u001b[1;33m:\u001b[0m\u001b[1;33m\u001b[0m\u001b[1;33m\u001b[0m\u001b[0m\n\u001b[0;32m   2979\u001b[0m                 \u001b[1;32mreturn\u001b[0m \u001b[0mself\u001b[0m\u001b[1;33m.\u001b[0m\u001b[0m_getitem_multilevel\u001b[0m\u001b[1;33m(\u001b[0m\u001b[0mkey\u001b[0m\u001b[1;33m)\u001b[0m\u001b[1;33m\u001b[0m\u001b[1;33m\u001b[0m\u001b[0m\n\u001b[1;32m-> 2980\u001b[1;33m             \u001b[0mindexer\u001b[0m \u001b[1;33m=\u001b[0m \u001b[0mself\u001b[0m\u001b[1;33m.\u001b[0m\u001b[0mcolumns\u001b[0m\u001b[1;33m.\u001b[0m\u001b[0mget_loc\u001b[0m\u001b[1;33m(\u001b[0m\u001b[0mkey\u001b[0m\u001b[1;33m)\u001b[0m\u001b[1;33m\u001b[0m\u001b[1;33m\u001b[0m\u001b[0m\n\u001b[0m\u001b[0;32m   2981\u001b[0m             \u001b[1;32mif\u001b[0m \u001b[0mis_integer\u001b[0m\u001b[1;33m(\u001b[0m\u001b[0mindexer\u001b[0m\u001b[1;33m)\u001b[0m\u001b[1;33m:\u001b[0m\u001b[1;33m\u001b[0m\u001b[1;33m\u001b[0m\u001b[0m\n\u001b[0;32m   2982\u001b[0m                 \u001b[0mindexer\u001b[0m \u001b[1;33m=\u001b[0m \u001b[1;33m[\u001b[0m\u001b[0mindexer\u001b[0m\u001b[1;33m]\u001b[0m\u001b[1;33m\u001b[0m\u001b[1;33m\u001b[0m\u001b[0m\n",
      "\u001b[1;32m~\\Anaconda3\\lib\\site-packages\\pandas\\core\\indexes\\base.py\u001b[0m in \u001b[0;36mget_loc\u001b[1;34m(self, key, method, tolerance)\u001b[0m\n\u001b[0;32m   2897\u001b[0m                 \u001b[1;32mreturn\u001b[0m \u001b[0mself\u001b[0m\u001b[1;33m.\u001b[0m\u001b[0m_engine\u001b[0m\u001b[1;33m.\u001b[0m\u001b[0mget_loc\u001b[0m\u001b[1;33m(\u001b[0m\u001b[0mkey\u001b[0m\u001b[1;33m)\u001b[0m\u001b[1;33m\u001b[0m\u001b[1;33m\u001b[0m\u001b[0m\n\u001b[0;32m   2898\u001b[0m             \u001b[1;32mexcept\u001b[0m \u001b[0mKeyError\u001b[0m\u001b[1;33m:\u001b[0m\u001b[1;33m\u001b[0m\u001b[1;33m\u001b[0m\u001b[0m\n\u001b[1;32m-> 2899\u001b[1;33m                 \u001b[1;32mreturn\u001b[0m \u001b[0mself\u001b[0m\u001b[1;33m.\u001b[0m\u001b[0m_engine\u001b[0m\u001b[1;33m.\u001b[0m\u001b[0mget_loc\u001b[0m\u001b[1;33m(\u001b[0m\u001b[0mself\u001b[0m\u001b[1;33m.\u001b[0m\u001b[0m_maybe_cast_indexer\u001b[0m\u001b[1;33m(\u001b[0m\u001b[0mkey\u001b[0m\u001b[1;33m)\u001b[0m\u001b[1;33m)\u001b[0m\u001b[1;33m\u001b[0m\u001b[1;33m\u001b[0m\u001b[0m\n\u001b[0m\u001b[0;32m   2900\u001b[0m         \u001b[0mindexer\u001b[0m \u001b[1;33m=\u001b[0m \u001b[0mself\u001b[0m\u001b[1;33m.\u001b[0m\u001b[0mget_indexer\u001b[0m\u001b[1;33m(\u001b[0m\u001b[1;33m[\u001b[0m\u001b[0mkey\u001b[0m\u001b[1;33m]\u001b[0m\u001b[1;33m,\u001b[0m \u001b[0mmethod\u001b[0m\u001b[1;33m=\u001b[0m\u001b[0mmethod\u001b[0m\u001b[1;33m,\u001b[0m \u001b[0mtolerance\u001b[0m\u001b[1;33m=\u001b[0m\u001b[0mtolerance\u001b[0m\u001b[1;33m)\u001b[0m\u001b[1;33m\u001b[0m\u001b[1;33m\u001b[0m\u001b[0m\n\u001b[0;32m   2901\u001b[0m         \u001b[1;32mif\u001b[0m \u001b[0mindexer\u001b[0m\u001b[1;33m.\u001b[0m\u001b[0mndim\u001b[0m \u001b[1;33m>\u001b[0m \u001b[1;36m1\u001b[0m \u001b[1;32mor\u001b[0m \u001b[0mindexer\u001b[0m\u001b[1;33m.\u001b[0m\u001b[0msize\u001b[0m \u001b[1;33m>\u001b[0m \u001b[1;36m1\u001b[0m\u001b[1;33m:\u001b[0m\u001b[1;33m\u001b[0m\u001b[1;33m\u001b[0m\u001b[0m\n",
      "\u001b[1;32mpandas\\_libs\\index.pyx\u001b[0m in \u001b[0;36mpandas._libs.index.IndexEngine.get_loc\u001b[1;34m()\u001b[0m\n",
      "\u001b[1;32mpandas\\_libs\\index.pyx\u001b[0m in \u001b[0;36mpandas._libs.index.IndexEngine.get_loc\u001b[1;34m()\u001b[0m\n",
      "\u001b[1;32mpandas\\_libs\\hashtable_class_helper.pxi\u001b[0m in \u001b[0;36mpandas._libs.hashtable.PyObjectHashTable.get_item\u001b[1;34m()\u001b[0m\n",
      "\u001b[1;32mpandas\\_libs\\hashtable_class_helper.pxi\u001b[0m in \u001b[0;36mpandas._libs.hashtable.PyObjectHashTable.get_item\u001b[1;34m()\u001b[0m\n",
      "\u001b[1;31mKeyError\u001b[0m: 1"
     ]
    }
   ],
   "source": [
    "df_coll.explode(1)"
   ]
  },
  {
   "cell_type": "code",
   "execution_count": 58,
   "metadata": {},
   "outputs": [],
   "source": [
    "def calories(**names):\n",
    "    total_calories=0\n",
    "    for name, calories in names.items():\n",
    "        total_calories += calories\n",
    "    return {len(names), total_calories/len(names)}\n"
   ]
  },
  {
   "cell_type": "code",
   "execution_count": 64,
   "metadata": {},
   "outputs": [],
   "source": [
    "avg,number=calories(a=1,b=2,c=99)"
   ]
  },
  {
   "cell_type": "code",
   "execution_count": 65,
   "metadata": {},
   "outputs": [
    {
     "data": {
      "text/plain": [
       "3"
      ]
     },
     "execution_count": 65,
     "metadata": {},
     "output_type": "execute_result"
    }
   ],
   "source": [
    "number"
   ]
  },
  {
   "cell_type": "code",
   "execution_count": 66,
   "metadata": {},
   "outputs": [
    {
     "data": {
      "text/plain": [
       "34.0"
      ]
     },
     "execution_count": 66,
     "metadata": {},
     "output_type": "execute_result"
    }
   ],
   "source": [
    "avg"
   ]
  },
  {
   "cell_type": "code",
   "execution_count": 67,
   "metadata": {},
   "outputs": [],
   "source": [
    "num=[1,2,3,4,5,6,7,8,9,10]"
   ]
  },
  {
   "cell_type": "code",
   "execution_count": 68,
   "metadata": {},
   "outputs": [],
   "source": [
    "array=[1,2,3,4,5,6]"
   ]
  },
  {
   "cell_type": "code",
   "execution_count": 71,
   "metadata": {},
   "outputs": [],
   "source": [
    "x=sum(num),max(num),min(num)"
   ]
  },
  {
   "cell_type": "code",
   "execution_count": 74,
   "metadata": {},
   "outputs": [
    {
     "data": {
      "text/plain": [
       "558.0"
      ]
     },
     "execution_count": 74,
     "metadata": {},
     "output_type": "execute_result"
    }
   ],
   "source": [
    "np.var(x)"
   ]
  },
  {
   "cell_type": "code",
   "execution_count": 72,
   "metadata": {},
   "outputs": [],
   "source": [
    "import numpy as np"
   ]
  },
  {
   "cell_type": "code",
   "execution_count": null,
   "metadata": {},
   "outputs": [],
   "source": []
  }
 ],
 "metadata": {
  "kernelspec": {
   "display_name": "Python 3",
   "language": "python",
   "name": "python3"
  },
  "language_info": {
   "codemirror_mode": {
    "name": "ipython",
    "version": 3
   },
   "file_extension": ".py",
   "mimetype": "text/x-python",
   "name": "python",
   "nbconvert_exporter": "python",
   "pygments_lexer": "ipython3",
   "version": "3.7.4"
  },
  "toc": {
   "base_numbering": 1,
   "nav_menu": {},
   "number_sections": true,
   "sideBar": true,
   "skip_h1_title": false,
   "title_cell": "Table of Contents",
   "title_sidebar": "Contents",
   "toc_cell": false,
   "toc_position": {
    "height": "calc(100% - 180px)",
    "left": "10px",
    "top": "150px",
    "width": "165px"
   },
   "toc_section_display": true,
   "toc_window_display": true
  }
 },
 "nbformat": 4,
 "nbformat_minor": 2
}
